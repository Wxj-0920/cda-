{
 "cells": [
  {
   "cell_type": "markdown",
   "metadata": {},
   "source": [
    "# 特征选择"
   ]
  },
  {
   "cell_type": "code",
   "execution_count": 1,
   "metadata": {},
   "outputs": [],
   "source": [
    "#定义熵函数\n",
    "def calEnt(dataset):\n",
    "    n=dataset.shape[0]\n",
    "    i=dataset.iloc[:,-1].value_counts()\n",
    "    p=i/n\n",
    "    ent=(-p*np.log2(p)).sum()\n",
    "    return ent"
   ]
  },
  {
   "cell_type": "code",
   "execution_count": 2,
   "metadata": {},
   "outputs": [],
   "source": [
    "import numpy as np\n",
    "import pandas as pd"
   ]
  },
  {
   "cell_type": "code",
   "execution_count": 3,
   "metadata": {},
   "outputs": [
    {
     "data": {
      "text/html": [
       "<div>\n",
       "<style scoped>\n",
       "    .dataframe tbody tr th:only-of-type {\n",
       "        vertical-align: middle;\n",
       "    }\n",
       "\n",
       "    .dataframe tbody tr th {\n",
       "        vertical-align: top;\n",
       "    }\n",
       "\n",
       "    .dataframe thead th {\n",
       "        text-align: right;\n",
       "    }\n",
       "</style>\n",
       "<table border=\"1\" class=\"dataframe\">\n",
       "  <thead>\n",
       "    <tr style=\"text-align: right;\">\n",
       "      <th></th>\n",
       "      <th>accompany</th>\n",
       "      <th>game</th>\n",
       "      <th>bad boy</th>\n",
       "    </tr>\n",
       "  </thead>\n",
       "  <tbody>\n",
       "    <tr>\n",
       "      <th>0</th>\n",
       "      <td>0</td>\n",
       "      <td>1</td>\n",
       "      <td>yes</td>\n",
       "    </tr>\n",
       "    <tr>\n",
       "      <th>1</th>\n",
       "      <td>0</td>\n",
       "      <td>1</td>\n",
       "      <td>yes</td>\n",
       "    </tr>\n",
       "    <tr>\n",
       "      <th>2</th>\n",
       "      <td>0</td>\n",
       "      <td>0</td>\n",
       "      <td>no</td>\n",
       "    </tr>\n",
       "    <tr>\n",
       "      <th>3</th>\n",
       "      <td>1</td>\n",
       "      <td>1</td>\n",
       "      <td>no</td>\n",
       "    </tr>\n",
       "    <tr>\n",
       "      <th>4</th>\n",
       "      <td>1</td>\n",
       "      <td>1</td>\n",
       "      <td>no</td>\n",
       "    </tr>\n",
       "  </tbody>\n",
       "</table>\n",
       "</div>"
      ],
      "text/plain": [
       "   accompany  game bad boy\n",
       "0          0     1     yes\n",
       "1          0     1     yes\n",
       "2          0     0      no\n",
       "3          1     1      no\n",
       "4          1     1      no"
      ]
     },
     "execution_count": 3,
     "metadata": {},
     "output_type": "execute_result"
    }
   ],
   "source": [
    "row_data = {'accompany':[0,0,0,1,1],\n",
    "             'game':[1,1,0,1,1],\n",
    "             'bad boy':['yes','yes','no','no','no']}\n",
    "data = pd.DataFrame(row_data)\n",
    "data"
   ]
  },
  {
   "cell_type": "code",
   "execution_count": 4,
   "metadata": {},
   "outputs": [
    {
     "data": {
      "text/plain": [
       "0.9709505944546686"
      ]
     },
     "execution_count": 4,
     "metadata": {},
     "output_type": "execute_result"
    }
   ],
   "source": [
    "calEnt(data)"
   ]
  },
  {
   "cell_type": "code",
   "execution_count": 5,
   "metadata": {},
   "outputs": [
    {
     "data": {
      "text/plain": [
       "0.4199730940219749"
      ]
     },
     "execution_count": 5,
     "metadata": {},
     "output_type": "execute_result"
    }
   ],
   "source": [
    "a=(3/5)*(-(2/3)*np.log2(2/3)-(1/3)*np.log2(1/3))\n",
    "calEnt(data)-a"
   ]
  },
  {
   "cell_type": "code",
   "execution_count": 6,
   "metadata": {},
   "outputs": [
    {
     "data": {
      "text/plain": [
       "0.17095059445466854"
      ]
     },
     "execution_count": 6,
     "metadata": {},
     "output_type": "execute_result"
    }
   ],
   "source": [
    "b=4/5*(-2/4*np.log2(2/4)-2/4*np.log2(2/4))\n",
    "calEnt(data)-b"
   ]
  },
  {
   "cell_type": "code",
   "execution_count": 7,
   "metadata": {},
   "outputs": [],
   "source": [
    "# 选择最优的列进行切分\n",
    "def bestSplit(dataSet):\n",
    "    baseEnt = calEnt(dataSet)                                # 计算原始熵\n",
    "    bestGain = 0                                             # 初始化信息增益\n",
    "    axis = -1                                                # 初始化最佳切分列，标签列\n",
    "    for i in range(dataSet.shape[1]-1):                      # 对特征的每一列进行循环\n",
    "        levels= dataSet.iloc[:,i].value_counts().index       # 提取出当前列的所有取值\n",
    "        ents = 0                                             # 初始化子节点的信息熵\n",
    "        for j in levels:                                     # 对当前列的每一个取值进行循环\n",
    "            childSet = dataSet[dataSet.iloc[:,i]==j]         # 某一个子节点的dataframe\n",
    "            ent = calEnt(childSet)                           # 计算某一个子节点的信息熵\n",
    "            ents += (childSet.shape[0]/dataSet.shape[0])*ent # 计算当前列的信息熵\n",
    "            print(f'第{i}列的信息熵为{ents}')\n",
    "        infoGain = baseEnt-ents                              # 计算当前列的信息增益\n",
    "        print(f'第{i}列的信息增益为{infoGain}')\n",
    "        if (infoGain > bestGain):\n",
    "            bestGain = infoGain                              # 选择最大信息增益\n",
    "            axis = i                                         # 最大信息增益所在列的索引\n",
    "    return axis"
   ]
  },
  {
   "cell_type": "code",
   "execution_count": 8,
   "metadata": {},
   "outputs": [
    {
     "name": "stdout",
     "output_type": "stream",
     "text": [
      "第0列的信息熵为0.5509775004326937\n",
      "第0列的信息熵为0.5509775004326937\n",
      "第0列的信息增益为0.4199730940219749\n",
      "第1列的信息熵为0.8\n",
      "第1列的信息熵为0.8\n",
      "第1列的信息增益为0.17095059445466854\n"
     ]
    },
    {
     "data": {
      "text/plain": [
       "0"
      ]
     },
     "execution_count": 8,
     "metadata": {},
     "output_type": "execute_result"
    }
   ],
   "source": [
    "bestSplit(data)"
   ]
  },
  {
   "cell_type": "code",
   "execution_count": 9,
   "metadata": {},
   "outputs": [
    {
     "data": {
      "text/plain": [
       "'accompany'"
      ]
     },
     "execution_count": 9,
     "metadata": {},
     "output_type": "execute_result"
    }
   ],
   "source": [
    "col=data.columns[0]\n",
    "col"
   ]
  },
  {
   "cell_type": "code",
   "execution_count": 10,
   "metadata": {},
   "outputs": [
    {
     "data": {
      "text/html": [
       "<div>\n",
       "<style scoped>\n",
       "    .dataframe tbody tr th:only-of-type {\n",
       "        vertical-align: middle;\n",
       "    }\n",
       "\n",
       "    .dataframe tbody tr th {\n",
       "        vertical-align: top;\n",
       "    }\n",
       "\n",
       "    .dataframe thead th {\n",
       "        text-align: right;\n",
       "    }\n",
       "</style>\n",
       "<table border=\"1\" class=\"dataframe\">\n",
       "  <thead>\n",
       "    <tr style=\"text-align: right;\">\n",
       "      <th></th>\n",
       "      <th>game</th>\n",
       "      <th>bad boy</th>\n",
       "    </tr>\n",
       "  </thead>\n",
       "  <tbody>\n",
       "    <tr>\n",
       "      <th>3</th>\n",
       "      <td>1</td>\n",
       "      <td>no</td>\n",
       "    </tr>\n",
       "    <tr>\n",
       "      <th>4</th>\n",
       "      <td>1</td>\n",
       "      <td>no</td>\n",
       "    </tr>\n",
       "  </tbody>\n",
       "</table>\n",
       "</div>"
      ],
      "text/plain": [
       "   game bad boy\n",
       "3     1      no\n",
       "4     1      no"
      ]
     },
     "execution_count": 10,
     "metadata": {},
     "output_type": "execute_result"
    }
   ],
   "source": [
    "data.loc[data[\"accompany\"]==1,:].drop(\"accompany\",axis=1)"
   ]
  },
  {
   "cell_type": "code",
   "execution_count": 11,
   "metadata": {},
   "outputs": [],
   "source": [
    "def mySplit(dataSet,axis,value):\n",
    "    col=dataSet.columns[axis]\n",
    "    redataset=dataSet.loc[dataSet[col]==value,:].drop(col,axis=1)\n",
    "    return redataset"
   ]
  },
  {
   "cell_type": "code",
   "execution_count": 12,
   "metadata": {},
   "outputs": [
    {
     "data": {
      "text/html": [
       "<div>\n",
       "<style scoped>\n",
       "    .dataframe tbody tr th:only-of-type {\n",
       "        vertical-align: middle;\n",
       "    }\n",
       "\n",
       "    .dataframe tbody tr th {\n",
       "        vertical-align: top;\n",
       "    }\n",
       "\n",
       "    .dataframe thead th {\n",
       "        text-align: right;\n",
       "    }\n",
       "</style>\n",
       "<table border=\"1\" class=\"dataframe\">\n",
       "  <thead>\n",
       "    <tr style=\"text-align: right;\">\n",
       "      <th></th>\n",
       "      <th>game</th>\n",
       "      <th>bad boy</th>\n",
       "    </tr>\n",
       "  </thead>\n",
       "  <tbody>\n",
       "    <tr>\n",
       "      <th>3</th>\n",
       "      <td>1</td>\n",
       "      <td>no</td>\n",
       "    </tr>\n",
       "    <tr>\n",
       "      <th>4</th>\n",
       "      <td>1</td>\n",
       "      <td>no</td>\n",
       "    </tr>\n",
       "  </tbody>\n",
       "</table>\n",
       "</div>"
      ],
      "text/plain": [
       "   game bad boy\n",
       "3     1      no\n",
       "4     1      no"
      ]
     },
     "execution_count": 12,
     "metadata": {},
     "output_type": "execute_result"
    }
   ],
   "source": [
    "mySplit(data,0,1)"
   ]
  },
  {
   "cell_type": "markdown",
   "metadata": {},
   "source": [
    "# 决策树的生成"
   ]
  },
  {
   "cell_type": "code",
   "execution_count": 13,
   "metadata": {},
   "outputs": [],
   "source": [
    "def createTree(dataSet):\n",
    "    featlist = list(dataSet.columns)                        # 提取出数据集所有的列\n",
    "    classlist = dataSet.iloc[:,-1].value_counts()           # 获取最后一列类标签\n",
    "    # 判断最多标签数目是否等于数据集行数，或者数据集是否只有一列\n",
    "    if classlist[0]==dataSet.shape[0] or dataSet.shape[1] == 1:\n",
    "        return classlist.index[0]                           # 如果是，返回类标签\n",
    "    axis = bestSplit(dataSet)                               # 确定出当前最佳切分列的索引\n",
    "    bestfeat = featlist[axis]                               # 获取该索引对应的特征\n",
    "    myTree = {bestfeat:{}}                                  # 采用字典嵌套的方式存储树信息\n",
    "    del featlist[axis]                                      # 删除当前特征\n",
    "    valuelist = set(dataSet.iloc[:,axis])                   # 提取最佳切分列所有属性值\n",
    "    for value in valuelist:                                 # 对每一个属性值递归建树\n",
    "        myTree[bestfeat][value] = createTree(mySplit(dataSet,axis,value))\n",
    "    return myTree"
   ]
  },
  {
   "cell_type": "code",
   "execution_count": 14,
   "metadata": {},
   "outputs": [
    {
     "name": "stdout",
     "output_type": "stream",
     "text": [
      "第0列的信息熵为0.5509775004326937\n",
      "第0列的信息熵为0.5509775004326937\n",
      "第0列的信息增益为0.4199730940219749\n",
      "第1列的信息熵为0.8\n",
      "第1列的信息熵为0.8\n",
      "第1列的信息增益为0.17095059445466854\n",
      "第0列的信息熵为0.0\n",
      "第0列的信息熵为0.0\n",
      "第0列的信息增益为0.9182958340544896\n"
     ]
    }
   ],
   "source": [
    "mytree=createTree(data)"
   ]
  },
  {
   "cell_type": "code",
   "execution_count": 15,
   "metadata": {},
   "outputs": [
    {
     "data": {
      "text/plain": [
       "{'accompany': {0: {'game': {0: 'no', 1: 'yes'}}, 1: 'no'}}"
      ]
     },
     "execution_count": 15,
     "metadata": {},
     "output_type": "execute_result"
    }
   ],
   "source": [
    "mytree"
   ]
  },
  {
   "cell_type": "markdown",
   "metadata": {},
   "source": [
    "# sklearn实现"
   ]
  },
  {
   "cell_type": "code",
   "execution_count": 16,
   "metadata": {},
   "outputs": [],
   "source": [
    "from sklearn.datasets import load_wine\n",
    "from sklearn.model_selection import train_test_split"
   ]
  },
  {
   "cell_type": "code",
   "execution_count": 17,
   "metadata": {
    "collapsed": true
   },
   "outputs": [
    {
     "data": {
      "text/plain": [
       "{'data': array([[1.423e+01, 1.710e+00, 2.430e+00, ..., 1.040e+00, 3.920e+00,\n",
       "         1.065e+03],\n",
       "        [1.320e+01, 1.780e+00, 2.140e+00, ..., 1.050e+00, 3.400e+00,\n",
       "         1.050e+03],\n",
       "        [1.316e+01, 2.360e+00, 2.670e+00, ..., 1.030e+00, 3.170e+00,\n",
       "         1.185e+03],\n",
       "        ...,\n",
       "        [1.327e+01, 4.280e+00, 2.260e+00, ..., 5.900e-01, 1.560e+00,\n",
       "         8.350e+02],\n",
       "        [1.317e+01, 2.590e+00, 2.370e+00, ..., 6.000e-01, 1.620e+00,\n",
       "         8.400e+02],\n",
       "        [1.413e+01, 4.100e+00, 2.740e+00, ..., 6.100e-01, 1.600e+00,\n",
       "         5.600e+02]]),\n",
       " 'target': array([0, 0, 0, 0, 0, 0, 0, 0, 0, 0, 0, 0, 0, 0, 0, 0, 0, 0, 0, 0, 0, 0,\n",
       "        0, 0, 0, 0, 0, 0, 0, 0, 0, 0, 0, 0, 0, 0, 0, 0, 0, 0, 0, 0, 0, 0,\n",
       "        0, 0, 0, 0, 0, 0, 0, 0, 0, 0, 0, 0, 0, 0, 0, 1, 1, 1, 1, 1, 1, 1,\n",
       "        1, 1, 1, 1, 1, 1, 1, 1, 1, 1, 1, 1, 1, 1, 1, 1, 1, 1, 1, 1, 1, 1,\n",
       "        1, 1, 1, 1, 1, 1, 1, 1, 1, 1, 1, 1, 1, 1, 1, 1, 1, 1, 1, 1, 1, 1,\n",
       "        1, 1, 1, 1, 1, 1, 1, 1, 1, 1, 1, 1, 1, 1, 1, 1, 1, 1, 1, 1, 2, 2,\n",
       "        2, 2, 2, 2, 2, 2, 2, 2, 2, 2, 2, 2, 2, 2, 2, 2, 2, 2, 2, 2, 2, 2,\n",
       "        2, 2, 2, 2, 2, 2, 2, 2, 2, 2, 2, 2, 2, 2, 2, 2, 2, 2, 2, 2, 2, 2,\n",
       "        2, 2]),\n",
       " 'target_names': array(['class_0', 'class_1', 'class_2'], dtype='<U7'),\n",
       " 'DESCR': '.. _wine_dataset:\\n\\nWine recognition dataset\\n------------------------\\n\\n**Data Set Characteristics:**\\n\\n    :Number of Instances: 178 (50 in each of three classes)\\n    :Number of Attributes: 13 numeric, predictive attributes and the class\\n    :Attribute Information:\\n \\t\\t- Alcohol\\n \\t\\t- Malic acid\\n \\t\\t- Ash\\n\\t\\t- Alcalinity of ash  \\n \\t\\t- Magnesium\\n\\t\\t- Total phenols\\n \\t\\t- Flavanoids\\n \\t\\t- Nonflavanoid phenols\\n \\t\\t- Proanthocyanins\\n\\t\\t- Color intensity\\n \\t\\t- Hue\\n \\t\\t- OD280/OD315 of diluted wines\\n \\t\\t- Proline\\n\\n    - class:\\n            - class_0\\n            - class_1\\n            - class_2\\n\\t\\t\\n    :Summary Statistics:\\n    \\n    ============================= ==== ===== ======= =====\\n                                   Min   Max   Mean     SD\\n    ============================= ==== ===== ======= =====\\n    Alcohol:                      11.0  14.8    13.0   0.8\\n    Malic Acid:                   0.74  5.80    2.34  1.12\\n    Ash:                          1.36  3.23    2.36  0.27\\n    Alcalinity of Ash:            10.6  30.0    19.5   3.3\\n    Magnesium:                    70.0 162.0    99.7  14.3\\n    Total Phenols:                0.98  3.88    2.29  0.63\\n    Flavanoids:                   0.34  5.08    2.03  1.00\\n    Nonflavanoid Phenols:         0.13  0.66    0.36  0.12\\n    Proanthocyanins:              0.41  3.58    1.59  0.57\\n    Colour Intensity:              1.3  13.0     5.1   2.3\\n    Hue:                          0.48  1.71    0.96  0.23\\n    OD280/OD315 of diluted wines: 1.27  4.00    2.61  0.71\\n    Proline:                       278  1680     746   315\\n    ============================= ==== ===== ======= =====\\n\\n    :Missing Attribute Values: None\\n    :Class Distribution: class_0 (59), class_1 (71), class_2 (48)\\n    :Creator: R.A. Fisher\\n    :Donor: Michael Marshall (MARSHALL%PLU@io.arc.nasa.gov)\\n    :Date: July, 1988\\n\\nThis is a copy of UCI ML Wine recognition datasets.\\nhttps://archive.ics.uci.edu/ml/machine-learning-databases/wine/wine.data\\n\\nThe data is the results of a chemical analysis of wines grown in the same\\nregion in Italy by three different cultivators. There are thirteen different\\nmeasurements taken for different constituents found in the three types of\\nwine.\\n\\nOriginal Owners: \\n\\nForina, M. et al, PARVUS - \\nAn Extendible Package for Data Exploration, Classification and Correlation. \\nInstitute of Pharmaceutical and Food Analysis and Technologies,\\nVia Brigata Salerno, 16147 Genoa, Italy.\\n\\nCitation:\\n\\nLichman, M. (2013). UCI Machine Learning Repository\\n[http://archive.ics.uci.edu/ml]. Irvine, CA: University of California,\\nSchool of Information and Computer Science. \\n\\n.. topic:: References\\n\\n  (1) S. Aeberhard, D. Coomans and O. de Vel, \\n  Comparison of Classifiers in High Dimensional Settings, \\n  Tech. Rep. no. 92-02, (1992), Dept. of Computer Science and Dept. of  \\n  Mathematics and Statistics, James Cook University of North Queensland. \\n  (Also submitted to Technometrics). \\n\\n  The data was used with many others for comparing various \\n  classifiers. The classes are separable, though only RDA \\n  has achieved 100% correct classification. \\n  (RDA : 100%, QDA 99.4%, LDA 98.9%, 1NN 96.1% (z-transformed data)) \\n  (All results using the leave-one-out technique) \\n\\n  (2) S. Aeberhard, D. Coomans and O. de Vel, \\n  \"THE CLASSIFICATION PERFORMANCE OF RDA\" \\n  Tech. Rep. no. 92-01, (1992), Dept. of Computer Science and Dept. of \\n  Mathematics and Statistics, James Cook University of North Queensland. \\n  (Also submitted to Journal of Chemometrics).\\n',\n",
       " 'feature_names': ['alcohol',\n",
       "  'malic_acid',\n",
       "  'ash',\n",
       "  'alcalinity_of_ash',\n",
       "  'magnesium',\n",
       "  'total_phenols',\n",
       "  'flavanoids',\n",
       "  'nonflavanoid_phenols',\n",
       "  'proanthocyanins',\n",
       "  'color_intensity',\n",
       "  'hue',\n",
       "  'od280/od315_of_diluted_wines',\n",
       "  'proline']}"
      ]
     },
     "execution_count": 17,
     "metadata": {},
     "output_type": "execute_result"
    }
   ],
   "source": [
    "wine=load_wine()\n",
    "wine"
   ]
  },
  {
   "cell_type": "code",
   "execution_count": 19,
   "metadata": {},
   "outputs": [
    {
     "data": {
      "text/plain": [
       "(178, 13)"
      ]
     },
     "execution_count": 19,
     "metadata": {},
     "output_type": "execute_result"
    }
   ],
   "source": [
    "wine.data.shape"
   ]
  },
  {
   "cell_type": "code",
   "execution_count": 20,
   "metadata": {},
   "outputs": [
    {
     "data": {
      "text/plain": [
       "['alcohol',\n",
       " 'malic_acid',\n",
       " 'ash',\n",
       " 'alcalinity_of_ash',\n",
       " 'magnesium',\n",
       " 'total_phenols',\n",
       " 'flavanoids',\n",
       " 'nonflavanoid_phenols',\n",
       " 'proanthocyanins',\n",
       " 'color_intensity',\n",
       " 'hue',\n",
       " 'od280/od315_of_diluted_wines',\n",
       " 'proline']"
      ]
     },
     "execution_count": 20,
     "metadata": {},
     "output_type": "execute_result"
    }
   ],
   "source": [
    "wine.feature_names"
   ]
  },
  {
   "cell_type": "code",
   "execution_count": 21,
   "metadata": {},
   "outputs": [],
   "source": [
    "Xtrain,Xtest,Ytrain,Ytest=train_test_split(wine.data,wine.target,test_size=0.2,random_state=420)"
   ]
  },
  {
   "cell_type": "code",
   "execution_count": 22,
   "metadata": {},
   "outputs": [
    {
     "data": {
      "text/plain": [
       "(142, 13)"
      ]
     },
     "execution_count": 22,
     "metadata": {},
     "output_type": "execute_result"
    }
   ],
   "source": [
    "Xtrain.shape"
   ]
  },
  {
   "cell_type": "code",
   "execution_count": 23,
   "metadata": {},
   "outputs": [],
   "source": [
    "from sklearn.tree import DecisionTreeClassifier"
   ]
  },
  {
   "cell_type": "code",
   "execution_count": 41,
   "metadata": {},
   "outputs": [
    {
     "data": {
      "text/plain": [
       "0.9444444444444444"
      ]
     },
     "execution_count": 41,
     "metadata": {},
     "output_type": "execute_result"
    }
   ],
   "source": [
    "clf=DecisionTreeClassifier(random_state=30,splitter=\"random\")\n",
    "clf=clf.fit(Xtrain,Ytrain)\n",
    "clf.score(Xtest,Ytest)"
   ]
  },
  {
   "cell_type": "code",
   "execution_count": 25,
   "metadata": {},
   "outputs": [],
   "source": [
    "import matplotlib.pyplot as plt"
   ]
  },
  {
   "cell_type": "code",
   "execution_count": 26,
   "metadata": {},
   "outputs": [],
   "source": [
    "plt.rcParams['font.sans-serif']=['Simhei'] #显示中文\n",
    "plt.rcParams['axes.unicode_minus']=False   #显示负号"
   ]
  },
  {
   "cell_type": "code",
   "execution_count": 27,
   "metadata": {},
   "outputs": [],
   "source": [
    "feature_name = ['酒精','苹果酸','灰','灰的碱性','镁','总酚','类黄酮','非黄烷类酚类','花青素','颜色强度','色调','od280/od315稀释葡萄酒','脯氨酸']"
   ]
  },
  {
   "cell_type": "code",
   "execution_count": 31,
   "metadata": {},
   "outputs": [],
   "source": [
    "import graphviz"
   ]
  },
  {
   "cell_type": "code",
   "execution_count": 32,
   "metadata": {},
   "outputs": [],
   "source": [
    "from sklearn import tree"
   ]
  },
  {
   "cell_type": "code",
   "execution_count": 42,
   "metadata": {},
   "outputs": [
    {
     "data": {
      "image/svg+xml": [
       "<?xml version=\"1.0\" encoding=\"UTF-8\" standalone=\"no\"?>\r\n",
       "<!DOCTYPE svg PUBLIC \"-//W3C//DTD SVG 1.1//EN\"\r\n",
       " \"http://www.w3.org/Graphics/SVG/1.1/DTD/svg11.dtd\">\r\n",
       "<!-- Generated by graphviz version 2.38.0 (20140413.2041)\r\n",
       " -->\r\n",
       "<!-- Title: Tree Pages: 1 -->\r\n",
       "<svg width=\"1241pt\" height=\"909pt\"\r\n",
       " viewBox=\"0.00 0.00 1241.00 909.00\" xmlns=\"http://www.w3.org/2000/svg\" xmlns:xlink=\"http://www.w3.org/1999/xlink\">\r\n",
       "<g id=\"graph0\" class=\"graph\" transform=\"scale(1 1) rotate(0) translate(4 905)\">\r\n",
       "<title>Tree</title>\r\n",
       "<polygon fill=\"white\" stroke=\"none\" points=\"-4,4 -4,-905 1237,-905 1237,4 -4,4\"/>\r\n",
       "<!-- 0 -->\r\n",
       "<g id=\"node1\" class=\"node\"><title>0</title>\r\n",
       "<path fill=\"#39e581\" fill-opacity=\"0.168627\" stroke=\"black\" d=\"M644,-901C644,-901 531,-901 531,-901 525,-901 519,-895 519,-889 519,-889 519,-830 519,-830 519,-824 525,-818 531,-818 531,-818 644,-818 644,-818 650,-818 656,-824 656,-830 656,-830 656,-889 656,-889 656,-895 650,-901 644,-901\"/>\r\n",
       "<text text-anchor=\"middle\" x=\"587.5\" y=\"-885.8\" font-family=\"Helvetica,sans-Serif\" font-size=\"14.00\">颜色强度 &lt;= 4.616</text>\r\n",
       "<text text-anchor=\"middle\" x=\"587.5\" y=\"-870.8\" font-family=\"Helvetica,sans-Serif\" font-size=\"14.00\">gini = 0.657</text>\r\n",
       "<text text-anchor=\"middle\" x=\"587.5\" y=\"-855.8\" font-family=\"Helvetica,sans-Serif\" font-size=\"14.00\">samples = 142</text>\r\n",
       "<text text-anchor=\"middle\" x=\"587.5\" y=\"-840.8\" font-family=\"Helvetica,sans-Serif\" font-size=\"14.00\">value = [42, 59, 41]</text>\r\n",
       "<text text-anchor=\"middle\" x=\"587.5\" y=\"-825.8\" font-family=\"Helvetica,sans-Serif\" font-size=\"14.00\">class = 雪莉</text>\r\n",
       "</g>\r\n",
       "<!-- 1 -->\r\n",
       "<g id=\"node2\" class=\"node\"><title>1</title>\r\n",
       "<path fill=\"#39e581\" fill-opacity=\"0.745098\" stroke=\"black\" d=\"M464,-782C464,-782 359,-782 359,-782 353,-782 347,-776 347,-770 347,-770 347,-711 347,-711 347,-705 353,-699 359,-699 359,-699 464,-699 464,-699 470,-699 476,-705 476,-711 476,-711 476,-770 476,-770 476,-776 470,-782 464,-782\"/>\r\n",
       "<text text-anchor=\"middle\" x=\"411.5\" y=\"-766.8\" font-family=\"Helvetica,sans-Serif\" font-size=\"14.00\">颜色强度 &lt;= 3.809</text>\r\n",
       "<text text-anchor=\"middle\" x=\"411.5\" y=\"-751.8\" font-family=\"Helvetica,sans-Serif\" font-size=\"14.00\">gini = 0.355</text>\r\n",
       "<text text-anchor=\"middle\" x=\"411.5\" y=\"-736.8\" font-family=\"Helvetica,sans-Serif\" font-size=\"14.00\">samples = 70</text>\r\n",
       "<text text-anchor=\"middle\" x=\"411.5\" y=\"-721.8\" font-family=\"Helvetica,sans-Serif\" font-size=\"14.00\">value = [11, 55, 4]</text>\r\n",
       "<text text-anchor=\"middle\" x=\"411.5\" y=\"-706.8\" font-family=\"Helvetica,sans-Serif\" font-size=\"14.00\">class = 雪莉</text>\r\n",
       "</g>\r\n",
       "<!-- 0&#45;&gt;1 -->\r\n",
       "<g id=\"edge1\" class=\"edge\"><title>0&#45;&gt;1</title>\r\n",
       "<path fill=\"none\" stroke=\"black\" d=\"M526.438,-817.907C511.831,-808.197 496.128,-797.758 481.165,-787.811\"/>\r\n",
       "<polygon fill=\"black\" stroke=\"black\" points=\"482.72,-784.642 472.454,-782.021 478.845,-790.472 482.72,-784.642\"/>\r\n",
       "<text text-anchor=\"middle\" x=\"477.389\" y=\"-802.829\" font-family=\"Helvetica,sans-Serif\" font-size=\"14.00\">True</text>\r\n",
       "</g>\r\n",
       "<!-- 18 -->\r\n",
       "<g id=\"node19\" class=\"node\"><title>18</title>\r\n",
       "<path fill=\"#8139e5\" fill-opacity=\"0.145098\" stroke=\"black\" d=\"M857,-782C857,-782 752,-782 752,-782 746,-782 740,-776 740,-770 740,-770 740,-711 740,-711 740,-705 746,-699 752,-699 752,-699 857,-699 857,-699 863,-699 869,-705 869,-711 869,-711 869,-770 869,-770 869,-776 863,-782 857,-782\"/>\r\n",
       "<text text-anchor=\"middle\" x=\"804.5\" y=\"-766.8\" font-family=\"Helvetica,sans-Serif\" font-size=\"14.00\">苹果酸 &lt;= 3.313</text>\r\n",
       "<text text-anchor=\"middle\" x=\"804.5\" y=\"-751.8\" font-family=\"Helvetica,sans-Serif\" font-size=\"14.00\">gini = 0.547</text>\r\n",
       "<text text-anchor=\"middle\" x=\"804.5\" y=\"-736.8\" font-family=\"Helvetica,sans-Serif\" font-size=\"14.00\">samples = 72</text>\r\n",
       "<text text-anchor=\"middle\" x=\"804.5\" y=\"-721.8\" font-family=\"Helvetica,sans-Serif\" font-size=\"14.00\">value = [31, 4, 37]</text>\r\n",
       "<text text-anchor=\"middle\" x=\"804.5\" y=\"-706.8\" font-family=\"Helvetica,sans-Serif\" font-size=\"14.00\">class = 贝尔摩德</text>\r\n",
       "</g>\r\n",
       "<!-- 0&#45;&gt;18 -->\r\n",
       "<g id=\"edge18\" class=\"edge\"><title>0&#45;&gt;18</title>\r\n",
       "<path fill=\"none\" stroke=\"black\" d=\"M656.16,-821.48C680.047,-808.601 706.926,-794.109 731.176,-781.034\"/>\r\n",
       "<polygon fill=\"black\" stroke=\"black\" points=\"732.839,-784.114 739.98,-776.287 729.517,-777.952 732.839,-784.114\"/>\r\n",
       "<text text-anchor=\"middle\" x=\"732.81\" y=\"-796.537\" font-family=\"Helvetica,sans-Serif\" font-size=\"14.00\">False</text>\r\n",
       "</g>\r\n",
       "<!-- 2 -->\r\n",
       "<g id=\"node3\" class=\"node\"><title>2</title>\r\n",
       "<path fill=\"#39e581\" fill-opacity=\"0.980392\" stroke=\"black\" d=\"M253.5,-663C253.5,-663 145.5,-663 145.5,-663 139.5,-663 133.5,-657 133.5,-651 133.5,-651 133.5,-592 133.5,-592 133.5,-586 139.5,-580 145.5,-580 145.5,-580 253.5,-580 253.5,-580 259.5,-580 265.5,-586 265.5,-592 265.5,-592 265.5,-651 265.5,-651 265.5,-657 259.5,-663 253.5,-663\"/>\r\n",
       "<text text-anchor=\"middle\" x=\"199.5\" y=\"-647.8\" font-family=\"Helvetica,sans-Serif\" font-size=\"14.00\">脯氨酸 &lt;= 771.394</text>\r\n",
       "<text text-anchor=\"middle\" x=\"199.5\" y=\"-632.8\" font-family=\"Helvetica,sans-Serif\" font-size=\"14.00\">gini = 0.039</text>\r\n",
       "<text text-anchor=\"middle\" x=\"199.5\" y=\"-617.8\" font-family=\"Helvetica,sans-Serif\" font-size=\"14.00\">samples = 50</text>\r\n",
       "<text text-anchor=\"middle\" x=\"199.5\" y=\"-602.8\" font-family=\"Helvetica,sans-Serif\" font-size=\"14.00\">value = [1, 49, 0]</text>\r\n",
       "<text text-anchor=\"middle\" x=\"199.5\" y=\"-587.8\" font-family=\"Helvetica,sans-Serif\" font-size=\"14.00\">class = 雪莉</text>\r\n",
       "</g>\r\n",
       "<!-- 1&#45;&gt;2 -->\r\n",
       "<g id=\"edge2\" class=\"edge\"><title>1&#45;&gt;2</title>\r\n",
       "<path fill=\"none\" stroke=\"black\" d=\"M346.741,-703.76C323.959,-691.187 298.165,-676.952 274.603,-663.948\"/>\r\n",
       "<polygon fill=\"black\" stroke=\"black\" points=\"276.139,-660.798 265.692,-659.031 272.756,-666.927 276.139,-660.798\"/>\r\n",
       "</g>\r\n",
       "<!-- 7 -->\r\n",
       "<g id=\"node8\" class=\"node\"><title>7</title>\r\n",
       "<path fill=\"#e58139\" fill-opacity=\"0.286275\" stroke=\"black\" d=\"M460,-663C460,-663 363,-663 363,-663 357,-663 351,-657 351,-651 351,-651 351,-592 351,-592 351,-586 357,-580 363,-580 363,-580 460,-580 460,-580 466,-580 472,-586 472,-592 472,-592 472,-651 472,-651 472,-657 466,-663 460,-663\"/>\r\n",
       "<text text-anchor=\"middle\" x=\"411.5\" y=\"-647.8\" font-family=\"Helvetica,sans-Serif\" font-size=\"14.00\">总酚 &lt;= 1.639</text>\r\n",
       "<text text-anchor=\"middle\" x=\"411.5\" y=\"-632.8\" font-family=\"Helvetica,sans-Serif\" font-size=\"14.00\">gini = 0.62</text>\r\n",
       "<text text-anchor=\"middle\" x=\"411.5\" y=\"-617.8\" font-family=\"Helvetica,sans-Serif\" font-size=\"14.00\">samples = 20</text>\r\n",
       "<text text-anchor=\"middle\" x=\"411.5\" y=\"-602.8\" font-family=\"Helvetica,sans-Serif\" font-size=\"14.00\">value = [10, 6, 4]</text>\r\n",
       "<text text-anchor=\"middle\" x=\"411.5\" y=\"-587.8\" font-family=\"Helvetica,sans-Serif\" font-size=\"14.00\">class = 琴酒</text>\r\n",
       "</g>\r\n",
       "<!-- 1&#45;&gt;7 -->\r\n",
       "<g id=\"edge7\" class=\"edge\"><title>1&#45;&gt;7</title>\r\n",
       "<path fill=\"none\" stroke=\"black\" d=\"M411.5,-698.907C411.5,-690.649 411.5,-681.864 411.5,-673.302\"/>\r\n",
       "<polygon fill=\"black\" stroke=\"black\" points=\"415,-673.021 411.5,-663.021 408,-673.021 415,-673.021\"/>\r\n",
       "</g>\r\n",
       "<!-- 3 -->\r\n",
       "<g id=\"node4\" class=\"node\"><title>3</title>\r\n",
       "<path fill=\"#39e581\" stroke=\"black\" d=\"M109,-536.5C109,-536.5 12,-536.5 12,-536.5 6,-536.5 0,-530.5 0,-524.5 0,-524.5 0,-480.5 0,-480.5 0,-474.5 6,-468.5 12,-468.5 12,-468.5 109,-468.5 109,-468.5 115,-468.5 121,-474.5 121,-480.5 121,-480.5 121,-524.5 121,-524.5 121,-530.5 115,-536.5 109,-536.5\"/>\r\n",
       "<text text-anchor=\"middle\" x=\"60.5\" y=\"-521.3\" font-family=\"Helvetica,sans-Serif\" font-size=\"14.00\">gini = 0.0</text>\r\n",
       "<text text-anchor=\"middle\" x=\"60.5\" y=\"-506.3\" font-family=\"Helvetica,sans-Serif\" font-size=\"14.00\">samples = 46</text>\r\n",
       "<text text-anchor=\"middle\" x=\"60.5\" y=\"-491.3\" font-family=\"Helvetica,sans-Serif\" font-size=\"14.00\">value = [0, 46, 0]</text>\r\n",
       "<text text-anchor=\"middle\" x=\"60.5\" y=\"-476.3\" font-family=\"Helvetica,sans-Serif\" font-size=\"14.00\">class = 雪莉</text>\r\n",
       "</g>\r\n",
       "<!-- 2&#45;&gt;3 -->\r\n",
       "<g id=\"edge3\" class=\"edge\"><title>2&#45;&gt;3</title>\r\n",
       "<path fill=\"none\" stroke=\"black\" d=\"M151.275,-579.907C137.117,-567.99 121.655,-554.976 107.57,-543.12\"/>\r\n",
       "<polygon fill=\"black\" stroke=\"black\" points=\"109.808,-540.429 99.9035,-536.667 105.3,-545.784 109.808,-540.429\"/>\r\n",
       "</g>\r\n",
       "<!-- 4 -->\r\n",
       "<g id=\"node5\" class=\"node\"><title>4</title>\r\n",
       "<path fill=\"#39e581\" fill-opacity=\"0.666667\" stroke=\"black\" d=\"M247.5,-544C247.5,-544 151.5,-544 151.5,-544 145.5,-544 139.5,-538 139.5,-532 139.5,-532 139.5,-473 139.5,-473 139.5,-467 145.5,-461 151.5,-461 151.5,-461 247.5,-461 247.5,-461 253.5,-461 259.5,-467 259.5,-473 259.5,-473 259.5,-532 259.5,-532 259.5,-538 253.5,-544 247.5,-544\"/>\r\n",
       "<text text-anchor=\"middle\" x=\"199.5\" y=\"-528.8\" font-family=\"Helvetica,sans-Serif\" font-size=\"14.00\">颜色强度 &lt;= 3.51</text>\r\n",
       "<text text-anchor=\"middle\" x=\"199.5\" y=\"-513.8\" font-family=\"Helvetica,sans-Serif\" font-size=\"14.00\">gini = 0.375</text>\r\n",
       "<text text-anchor=\"middle\" x=\"199.5\" y=\"-498.8\" font-family=\"Helvetica,sans-Serif\" font-size=\"14.00\">samples = 4</text>\r\n",
       "<text text-anchor=\"middle\" x=\"199.5\" y=\"-483.8\" font-family=\"Helvetica,sans-Serif\" font-size=\"14.00\">value = [1, 3, 0]</text>\r\n",
       "<text text-anchor=\"middle\" x=\"199.5\" y=\"-468.8\" font-family=\"Helvetica,sans-Serif\" font-size=\"14.00\">class = 雪莉</text>\r\n",
       "</g>\r\n",
       "<!-- 2&#45;&gt;4 -->\r\n",
       "<g id=\"edge4\" class=\"edge\"><title>2&#45;&gt;4</title>\r\n",
       "<path fill=\"none\" stroke=\"black\" d=\"M199.5,-579.907C199.5,-571.649 199.5,-562.864 199.5,-554.302\"/>\r\n",
       "<polygon fill=\"black\" stroke=\"black\" points=\"203,-554.021 199.5,-544.021 196,-554.021 203,-554.021\"/>\r\n",
       "</g>\r\n",
       "<!-- 5 -->\r\n",
       "<g id=\"node6\" class=\"node\"><title>5</title>\r\n",
       "<path fill=\"#39e581\" stroke=\"black\" d=\"M119,-417.5C119,-417.5 30,-417.5 30,-417.5 24,-417.5 18,-411.5 18,-405.5 18,-405.5 18,-361.5 18,-361.5 18,-355.5 24,-349.5 30,-349.5 30,-349.5 119,-349.5 119,-349.5 125,-349.5 131,-355.5 131,-361.5 131,-361.5 131,-405.5 131,-405.5 131,-411.5 125,-417.5 119,-417.5\"/>\r\n",
       "<text text-anchor=\"middle\" x=\"74.5\" y=\"-402.3\" font-family=\"Helvetica,sans-Serif\" font-size=\"14.00\">gini = 0.0</text>\r\n",
       "<text text-anchor=\"middle\" x=\"74.5\" y=\"-387.3\" font-family=\"Helvetica,sans-Serif\" font-size=\"14.00\">samples = 3</text>\r\n",
       "<text text-anchor=\"middle\" x=\"74.5\" y=\"-372.3\" font-family=\"Helvetica,sans-Serif\" font-size=\"14.00\">value = [0, 3, 0]</text>\r\n",
       "<text text-anchor=\"middle\" x=\"74.5\" y=\"-357.3\" font-family=\"Helvetica,sans-Serif\" font-size=\"14.00\">class = 雪莉</text>\r\n",
       "</g>\r\n",
       "<!-- 4&#45;&gt;5 -->\r\n",
       "<g id=\"edge5\" class=\"edge\"><title>4&#45;&gt;5</title>\r\n",
       "<path fill=\"none\" stroke=\"black\" d=\"M156.132,-460.907C143.636,-449.211 130.01,-436.457 117.534,-424.78\"/>\r\n",
       "<polygon fill=\"black\" stroke=\"black\" points=\"119.627,-421.945 109.935,-417.667 114.844,-427.056 119.627,-421.945\"/>\r\n",
       "</g>\r\n",
       "<!-- 6 -->\r\n",
       "<g id=\"node7\" class=\"node\"><title>6</title>\r\n",
       "<path fill=\"#e58139\" stroke=\"black\" d=\"M250,-417.5C250,-417.5 161,-417.5 161,-417.5 155,-417.5 149,-411.5 149,-405.5 149,-405.5 149,-361.5 149,-361.5 149,-355.5 155,-349.5 161,-349.5 161,-349.5 250,-349.5 250,-349.5 256,-349.5 262,-355.5 262,-361.5 262,-361.5 262,-405.5 262,-405.5 262,-411.5 256,-417.5 250,-417.5\"/>\r\n",
       "<text text-anchor=\"middle\" x=\"205.5\" y=\"-402.3\" font-family=\"Helvetica,sans-Serif\" font-size=\"14.00\">gini = 0.0</text>\r\n",
       "<text text-anchor=\"middle\" x=\"205.5\" y=\"-387.3\" font-family=\"Helvetica,sans-Serif\" font-size=\"14.00\">samples = 1</text>\r\n",
       "<text text-anchor=\"middle\" x=\"205.5\" y=\"-372.3\" font-family=\"Helvetica,sans-Serif\" font-size=\"14.00\">value = [1, 0, 0]</text>\r\n",
       "<text text-anchor=\"middle\" x=\"205.5\" y=\"-357.3\" font-family=\"Helvetica,sans-Serif\" font-size=\"14.00\">class = 琴酒</text>\r\n",
       "</g>\r\n",
       "<!-- 4&#45;&gt;6 -->\r\n",
       "<g id=\"edge6\" class=\"edge\"><title>4&#45;&gt;6</title>\r\n",
       "<path fill=\"none\" stroke=\"black\" d=\"M201.582,-460.907C202.131,-450.204 202.725,-438.615 203.281,-427.776\"/>\r\n",
       "<polygon fill=\"black\" stroke=\"black\" points=\"206.782,-427.833 203.799,-417.667 199.791,-427.475 206.782,-427.833\"/>\r\n",
       "</g>\r\n",
       "<!-- 8 -->\r\n",
       "<g id=\"node9\" class=\"node\"><title>8</title>\r\n",
       "<path fill=\"#8139e5\" stroke=\"black\" d=\"M381.5,-536.5C381.5,-536.5 289.5,-536.5 289.5,-536.5 283.5,-536.5 277.5,-530.5 277.5,-524.5 277.5,-524.5 277.5,-480.5 277.5,-480.5 277.5,-474.5 283.5,-468.5 289.5,-468.5 289.5,-468.5 381.5,-468.5 381.5,-468.5 387.5,-468.5 393.5,-474.5 393.5,-480.5 393.5,-480.5 393.5,-524.5 393.5,-524.5 393.5,-530.5 387.5,-536.5 381.5,-536.5\"/>\r\n",
       "<text text-anchor=\"middle\" x=\"335.5\" y=\"-521.3\" font-family=\"Helvetica,sans-Serif\" font-size=\"14.00\">gini = 0.0</text>\r\n",
       "<text text-anchor=\"middle\" x=\"335.5\" y=\"-506.3\" font-family=\"Helvetica,sans-Serif\" font-size=\"14.00\">samples = 4</text>\r\n",
       "<text text-anchor=\"middle\" x=\"335.5\" y=\"-491.3\" font-family=\"Helvetica,sans-Serif\" font-size=\"14.00\">value = [0, 0, 4]</text>\r\n",
       "<text text-anchor=\"middle\" x=\"335.5\" y=\"-476.3\" font-family=\"Helvetica,sans-Serif\" font-size=\"14.00\">class = 贝尔摩德</text>\r\n",
       "</g>\r\n",
       "<!-- 7&#45;&gt;8 -->\r\n",
       "<g id=\"edge8\" class=\"edge\"><title>7&#45;&gt;8</title>\r\n",
       "<path fill=\"none\" stroke=\"black\" d=\"M385.132,-579.907C377.821,-568.652 369.874,-556.418 362.526,-545.106\"/>\r\n",
       "<polygon fill=\"black\" stroke=\"black\" points=\"365.427,-543.146 357.044,-536.667 359.557,-546.96 365.427,-543.146\"/>\r\n",
       "</g>\r\n",
       "<!-- 9 -->\r\n",
       "<g id=\"node10\" class=\"node\"><title>9</title>\r\n",
       "<path fill=\"#e58139\" fill-opacity=\"0.400000\" stroke=\"black\" d=\"M531.5,-544C531.5,-544 423.5,-544 423.5,-544 417.5,-544 411.5,-538 411.5,-532 411.5,-532 411.5,-473 411.5,-473 411.5,-467 417.5,-461 423.5,-461 423.5,-461 531.5,-461 531.5,-461 537.5,-461 543.5,-467 543.5,-473 543.5,-473 543.5,-532 543.5,-532 543.5,-538 537.5,-544 531.5,-544\"/>\r\n",
       "<text text-anchor=\"middle\" x=\"477.5\" y=\"-528.8\" font-family=\"Helvetica,sans-Serif\" font-size=\"14.00\">脯氨酸 &lt;= 638.597</text>\r\n",
       "<text text-anchor=\"middle\" x=\"477.5\" y=\"-513.8\" font-family=\"Helvetica,sans-Serif\" font-size=\"14.00\">gini = 0.469</text>\r\n",
       "<text text-anchor=\"middle\" x=\"477.5\" y=\"-498.8\" font-family=\"Helvetica,sans-Serif\" font-size=\"14.00\">samples = 16</text>\r\n",
       "<text text-anchor=\"middle\" x=\"477.5\" y=\"-483.8\" font-family=\"Helvetica,sans-Serif\" font-size=\"14.00\">value = [10, 6, 0]</text>\r\n",
       "<text text-anchor=\"middle\" x=\"477.5\" y=\"-468.8\" font-family=\"Helvetica,sans-Serif\" font-size=\"14.00\">class = 琴酒</text>\r\n",
       "</g>\r\n",
       "<!-- 7&#45;&gt;9 -->\r\n",
       "<g id=\"edge9\" class=\"edge\"><title>7&#45;&gt;9</title>\r\n",
       "<path fill=\"none\" stroke=\"black\" d=\"M434.398,-579.907C439.313,-571.195 444.558,-561.897 449.637,-552.893\"/>\r\n",
       "<polygon fill=\"black\" stroke=\"black\" points=\"452.777,-554.45 454.642,-544.021 446.68,-551.011 452.777,-554.45\"/>\r\n",
       "</g>\r\n",
       "<!-- 10 -->\r\n",
       "<g id=\"node11\" class=\"node\"><title>10</title>\r\n",
       "<path fill=\"#39e581\" stroke=\"black\" d=\"M387,-417.5C387,-417.5 298,-417.5 298,-417.5 292,-417.5 286,-411.5 286,-405.5 286,-405.5 286,-361.5 286,-361.5 286,-355.5 292,-349.5 298,-349.5 298,-349.5 387,-349.5 387,-349.5 393,-349.5 399,-355.5 399,-361.5 399,-361.5 399,-405.5 399,-405.5 399,-411.5 393,-417.5 387,-417.5\"/>\r\n",
       "<text text-anchor=\"middle\" x=\"342.5\" y=\"-402.3\" font-family=\"Helvetica,sans-Serif\" font-size=\"14.00\">gini = 0.0</text>\r\n",
       "<text text-anchor=\"middle\" x=\"342.5\" y=\"-387.3\" font-family=\"Helvetica,sans-Serif\" font-size=\"14.00\">samples = 3</text>\r\n",
       "<text text-anchor=\"middle\" x=\"342.5\" y=\"-372.3\" font-family=\"Helvetica,sans-Serif\" font-size=\"14.00\">value = [0, 3, 0]</text>\r\n",
       "<text text-anchor=\"middle\" x=\"342.5\" y=\"-357.3\" font-family=\"Helvetica,sans-Serif\" font-size=\"14.00\">class = 雪莉</text>\r\n",
       "</g>\r\n",
       "<!-- 9&#45;&gt;10 -->\r\n",
       "<g id=\"edge10\" class=\"edge\"><title>9&#45;&gt;10</title>\r\n",
       "<path fill=\"none\" stroke=\"black\" d=\"M430.662,-460.907C417.039,-449.101 402.173,-436.217 388.596,-424.45\"/>\r\n",
       "<polygon fill=\"black\" stroke=\"black\" points=\"390.619,-421.571 380.77,-417.667 386.034,-426.861 390.619,-421.571\"/>\r\n",
       "</g>\r\n",
       "<!-- 11 -->\r\n",
       "<g id=\"node12\" class=\"node\"><title>11</title>\r\n",
       "<path fill=\"#e58139\" fill-opacity=\"0.701961\" stroke=\"black\" d=\"M526,-425C526,-425 429,-425 429,-425 423,-425 417,-419 417,-413 417,-413 417,-354 417,-354 417,-348 423,-342 429,-342 429,-342 526,-342 526,-342 532,-342 538,-348 538,-354 538,-354 538,-413 538,-413 538,-419 532,-425 526,-425\"/>\r\n",
       "<text text-anchor=\"middle\" x=\"477.5\" y=\"-409.8\" font-family=\"Helvetica,sans-Serif\" font-size=\"14.00\">酒精 &lt;= 13.05</text>\r\n",
       "<text text-anchor=\"middle\" x=\"477.5\" y=\"-394.8\" font-family=\"Helvetica,sans-Serif\" font-size=\"14.00\">gini = 0.355</text>\r\n",
       "<text text-anchor=\"middle\" x=\"477.5\" y=\"-379.8\" font-family=\"Helvetica,sans-Serif\" font-size=\"14.00\">samples = 13</text>\r\n",
       "<text text-anchor=\"middle\" x=\"477.5\" y=\"-364.8\" font-family=\"Helvetica,sans-Serif\" font-size=\"14.00\">value = [10, 3, 0]</text>\r\n",
       "<text text-anchor=\"middle\" x=\"477.5\" y=\"-349.8\" font-family=\"Helvetica,sans-Serif\" font-size=\"14.00\">class = 琴酒</text>\r\n",
       "</g>\r\n",
       "<!-- 9&#45;&gt;11 -->\r\n",
       "<g id=\"edge11\" class=\"edge\"><title>9&#45;&gt;11</title>\r\n",
       "<path fill=\"none\" stroke=\"black\" d=\"M477.5,-460.907C477.5,-452.649 477.5,-443.864 477.5,-435.302\"/>\r\n",
       "<polygon fill=\"black\" stroke=\"black\" points=\"481,-435.021 477.5,-425.021 474,-435.021 481,-435.021\"/>\r\n",
       "</g>\r\n",
       "<!-- 12 -->\r\n",
       "<g id=\"node13\" class=\"node\"><title>12</title>\r\n",
       "<path fill=\"none\" stroke=\"black\" d=\"M393.5,-306C393.5,-306 285.5,-306 285.5,-306 279.5,-306 273.5,-300 273.5,-294 273.5,-294 273.5,-235 273.5,-235 273.5,-229 279.5,-223 285.5,-223 285.5,-223 393.5,-223 393.5,-223 399.5,-223 405.5,-229 405.5,-235 405.5,-235 405.5,-294 405.5,-294 405.5,-300 399.5,-306 393.5,-306\"/>\r\n",
       "<text text-anchor=\"middle\" x=\"339.5\" y=\"-290.8\" font-family=\"Helvetica,sans-Serif\" font-size=\"14.00\">脯氨酸 &lt;= 699.679</text>\r\n",
       "<text text-anchor=\"middle\" x=\"339.5\" y=\"-275.8\" font-family=\"Helvetica,sans-Serif\" font-size=\"14.00\">gini = 0.5</text>\r\n",
       "<text text-anchor=\"middle\" x=\"339.5\" y=\"-260.8\" font-family=\"Helvetica,sans-Serif\" font-size=\"14.00\">samples = 6</text>\r\n",
       "<text text-anchor=\"middle\" x=\"339.5\" y=\"-245.8\" font-family=\"Helvetica,sans-Serif\" font-size=\"14.00\">value = [3, 3, 0]</text>\r\n",
       "<text text-anchor=\"middle\" x=\"339.5\" y=\"-230.8\" font-family=\"Helvetica,sans-Serif\" font-size=\"14.00\">class = 琴酒</text>\r\n",
       "</g>\r\n",
       "<!-- 11&#45;&gt;12 -->\r\n",
       "<g id=\"edge12\" class=\"edge\"><title>11&#45;&gt;12</title>\r\n",
       "<path fill=\"none\" stroke=\"black\" d=\"M429.622,-341.907C418.489,-332.469 406.546,-322.343 395.112,-312.649\"/>\r\n",
       "<polygon fill=\"black\" stroke=\"black\" points=\"397.185,-309.818 387.294,-306.021 392.658,-315.157 397.185,-309.818\"/>\r\n",
       "</g>\r\n",
       "<!-- 17 -->\r\n",
       "<g id=\"node18\" class=\"node\"><title>17</title>\r\n",
       "<path fill=\"#e58139\" stroke=\"black\" d=\"M525,-298.5C525,-298.5 436,-298.5 436,-298.5 430,-298.5 424,-292.5 424,-286.5 424,-286.5 424,-242.5 424,-242.5 424,-236.5 430,-230.5 436,-230.5 436,-230.5 525,-230.5 525,-230.5 531,-230.5 537,-236.5 537,-242.5 537,-242.5 537,-286.5 537,-286.5 537,-292.5 531,-298.5 525,-298.5\"/>\r\n",
       "<text text-anchor=\"middle\" x=\"480.5\" y=\"-283.3\" font-family=\"Helvetica,sans-Serif\" font-size=\"14.00\">gini = 0.0</text>\r\n",
       "<text text-anchor=\"middle\" x=\"480.5\" y=\"-268.3\" font-family=\"Helvetica,sans-Serif\" font-size=\"14.00\">samples = 7</text>\r\n",
       "<text text-anchor=\"middle\" x=\"480.5\" y=\"-253.3\" font-family=\"Helvetica,sans-Serif\" font-size=\"14.00\">value = [7, 0, 0]</text>\r\n",
       "<text text-anchor=\"middle\" x=\"480.5\" y=\"-238.3\" font-family=\"Helvetica,sans-Serif\" font-size=\"14.00\">class = 琴酒</text>\r\n",
       "</g>\r\n",
       "<!-- 11&#45;&gt;17 -->\r\n",
       "<g id=\"edge17\" class=\"edge\"><title>11&#45;&gt;17</title>\r\n",
       "<path fill=\"none\" stroke=\"black\" d=\"M478.541,-341.907C478.815,-331.204 479.112,-319.615 479.39,-308.776\"/>\r\n",
       "<polygon fill=\"black\" stroke=\"black\" points=\"482.892,-308.753 479.65,-298.667 475.894,-308.574 482.892,-308.753\"/>\r\n",
       "</g>\r\n",
       "<!-- 13 -->\r\n",
       "<g id=\"node14\" class=\"node\"><title>13</title>\r\n",
       "<path fill=\"#39e581\" stroke=\"black\" d=\"M319,-179.5C319,-179.5 230,-179.5 230,-179.5 224,-179.5 218,-173.5 218,-167.5 218,-167.5 218,-123.5 218,-123.5 218,-117.5 224,-111.5 230,-111.5 230,-111.5 319,-111.5 319,-111.5 325,-111.5 331,-117.5 331,-123.5 331,-123.5 331,-167.5 331,-167.5 331,-173.5 325,-179.5 319,-179.5\"/>\r\n",
       "<text text-anchor=\"middle\" x=\"274.5\" y=\"-164.3\" font-family=\"Helvetica,sans-Serif\" font-size=\"14.00\">gini = 0.0</text>\r\n",
       "<text text-anchor=\"middle\" x=\"274.5\" y=\"-149.3\" font-family=\"Helvetica,sans-Serif\" font-size=\"14.00\">samples = 2</text>\r\n",
       "<text text-anchor=\"middle\" x=\"274.5\" y=\"-134.3\" font-family=\"Helvetica,sans-Serif\" font-size=\"14.00\">value = [0, 2, 0]</text>\r\n",
       "<text text-anchor=\"middle\" x=\"274.5\" y=\"-119.3\" font-family=\"Helvetica,sans-Serif\" font-size=\"14.00\">class = 雪莉</text>\r\n",
       "</g>\r\n",
       "<!-- 12&#45;&gt;13 -->\r\n",
       "<g id=\"edge13\" class=\"edge\"><title>12&#45;&gt;13</title>\r\n",
       "<path fill=\"none\" stroke=\"black\" d=\"M316.949,-222.907C310.757,-211.763 304.032,-199.658 297.8,-188.439\"/>\r\n",
       "<polygon fill=\"black\" stroke=\"black\" points=\"300.842,-186.709 292.926,-179.667 294.723,-190.108 300.842,-186.709\"/>\r\n",
       "</g>\r\n",
       "<!-- 14 -->\r\n",
       "<g id=\"node15\" class=\"node\"><title>14</title>\r\n",
       "<path fill=\"#e58139\" fill-opacity=\"0.666667\" stroke=\"black\" d=\"M450,-187C450,-187 361,-187 361,-187 355,-187 349,-181 349,-175 349,-175 349,-116 349,-116 349,-110 355,-104 361,-104 361,-104 450,-104 450,-104 456,-104 462,-110 462,-116 462,-116 462,-175 462,-175 462,-181 456,-187 450,-187\"/>\r\n",
       "<text text-anchor=\"middle\" x=\"405.5\" y=\"-171.8\" font-family=\"Helvetica,sans-Serif\" font-size=\"14.00\">灰 &lt;= 2.24</text>\r\n",
       "<text text-anchor=\"middle\" x=\"405.5\" y=\"-156.8\" font-family=\"Helvetica,sans-Serif\" font-size=\"14.00\">gini = 0.375</text>\r\n",
       "<text text-anchor=\"middle\" x=\"405.5\" y=\"-141.8\" font-family=\"Helvetica,sans-Serif\" font-size=\"14.00\">samples = 4</text>\r\n",
       "<text text-anchor=\"middle\" x=\"405.5\" y=\"-126.8\" font-family=\"Helvetica,sans-Serif\" font-size=\"14.00\">value = [3, 1, 0]</text>\r\n",
       "<text text-anchor=\"middle\" x=\"405.5\" y=\"-111.8\" font-family=\"Helvetica,sans-Serif\" font-size=\"14.00\">class = 琴酒</text>\r\n",
       "</g>\r\n",
       "<!-- 12&#45;&gt;14 -->\r\n",
       "<g id=\"edge14\" class=\"edge\"><title>12&#45;&gt;14</title>\r\n",
       "<path fill=\"none\" stroke=\"black\" d=\"M362.398,-222.907C367.313,-214.195 372.558,-204.897 377.637,-195.893\"/>\r\n",
       "<polygon fill=\"black\" stroke=\"black\" points=\"380.777,-197.45 382.642,-187.021 374.68,-194.011 380.777,-197.45\"/>\r\n",
       "</g>\r\n",
       "<!-- 15 -->\r\n",
       "<g id=\"node16\" class=\"node\"><title>15</title>\r\n",
       "<path fill=\"#39e581\" stroke=\"black\" d=\"M384,-68C384,-68 295,-68 295,-68 289,-68 283,-62 283,-56 283,-56 283,-12 283,-12 283,-6 289,-0 295,-0 295,-0 384,-0 384,-0 390,-0 396,-6 396,-12 396,-12 396,-56 396,-56 396,-62 390,-68 384,-68\"/>\r\n",
       "<text text-anchor=\"middle\" x=\"339.5\" y=\"-52.8\" font-family=\"Helvetica,sans-Serif\" font-size=\"14.00\">gini = 0.0</text>\r\n",
       "<text text-anchor=\"middle\" x=\"339.5\" y=\"-37.8\" font-family=\"Helvetica,sans-Serif\" font-size=\"14.00\">samples = 1</text>\r\n",
       "<text text-anchor=\"middle\" x=\"339.5\" y=\"-22.8\" font-family=\"Helvetica,sans-Serif\" font-size=\"14.00\">value = [0, 1, 0]</text>\r\n",
       "<text text-anchor=\"middle\" x=\"339.5\" y=\"-7.8\" font-family=\"Helvetica,sans-Serif\" font-size=\"14.00\">class = 雪莉</text>\r\n",
       "</g>\r\n",
       "<!-- 14&#45;&gt;15 -->\r\n",
       "<g id=\"edge15\" class=\"edge\"><title>14&#45;&gt;15</title>\r\n",
       "<path fill=\"none\" stroke=\"black\" d=\"M380.924,-103.726C375.646,-94.9703 370.061,-85.7032 364.758,-76.9051\"/>\r\n",
       "<polygon fill=\"black\" stroke=\"black\" points=\"367.731,-75.0574 359.571,-68.2996 361.736,-78.671 367.731,-75.0574\"/>\r\n",
       "</g>\r\n",
       "<!-- 16 -->\r\n",
       "<g id=\"node17\" class=\"node\"><title>16</title>\r\n",
       "<path fill=\"#e58139\" stroke=\"black\" d=\"M515,-68C515,-68 426,-68 426,-68 420,-68 414,-62 414,-56 414,-56 414,-12 414,-12 414,-6 420,-0 426,-0 426,-0 515,-0 515,-0 521,-0 527,-6 527,-12 527,-12 527,-56 527,-56 527,-62 521,-68 515,-68\"/>\r\n",
       "<text text-anchor=\"middle\" x=\"470.5\" y=\"-52.8\" font-family=\"Helvetica,sans-Serif\" font-size=\"14.00\">gini = 0.0</text>\r\n",
       "<text text-anchor=\"middle\" x=\"470.5\" y=\"-37.8\" font-family=\"Helvetica,sans-Serif\" font-size=\"14.00\">samples = 3</text>\r\n",
       "<text text-anchor=\"middle\" x=\"470.5\" y=\"-22.8\" font-family=\"Helvetica,sans-Serif\" font-size=\"14.00\">value = [3, 0, 0]</text>\r\n",
       "<text text-anchor=\"middle\" x=\"470.5\" y=\"-7.8\" font-family=\"Helvetica,sans-Serif\" font-size=\"14.00\">class = 琴酒</text>\r\n",
       "</g>\r\n",
       "<!-- 14&#45;&gt;16 -->\r\n",
       "<g id=\"edge16\" class=\"edge\"><title>14&#45;&gt;16</title>\r\n",
       "<path fill=\"none\" stroke=\"black\" d=\"M429.704,-103.726C434.901,-94.9703 440.402,-85.7032 445.625,-76.9051\"/>\r\n",
       "<polygon fill=\"black\" stroke=\"black\" points=\"448.638,-78.6853 450.733,-68.2996 442.619,-75.1121 448.638,-78.6853\"/>\r\n",
       "</g>\r\n",
       "<!-- 19 -->\r\n",
       "<g id=\"node20\" class=\"node\"><title>19</title>\r\n",
       "<path fill=\"#e58139\" fill-opacity=\"0.262745\" stroke=\"black\" d=\"M857,-663C857,-663 752,-663 752,-663 746,-663 740,-657 740,-651 740,-651 740,-592 740,-592 740,-586 746,-580 752,-580 752,-580 857,-580 857,-580 863,-580 869,-586 869,-592 869,-592 869,-651 869,-651 869,-657 863,-663 857,-663\"/>\r\n",
       "<text text-anchor=\"middle\" x=\"804.5\" y=\"-647.8\" font-family=\"Helvetica,sans-Serif\" font-size=\"14.00\">类黄酮 &lt;= 1.814</text>\r\n",
       "<text text-anchor=\"middle\" x=\"804.5\" y=\"-632.8\" font-family=\"Helvetica,sans-Serif\" font-size=\"14.00\">gini = 0.551</text>\r\n",
       "<text text-anchor=\"middle\" x=\"804.5\" y=\"-617.8\" font-family=\"Helvetica,sans-Serif\" font-size=\"14.00\">samples = 55</text>\r\n",
       "<text text-anchor=\"middle\" x=\"804.5\" y=\"-602.8\" font-family=\"Helvetica,sans-Serif\" font-size=\"14.00\">value = [30, 4, 21]</text>\r\n",
       "<text text-anchor=\"middle\" x=\"804.5\" y=\"-587.8\" font-family=\"Helvetica,sans-Serif\" font-size=\"14.00\">class = 琴酒</text>\r\n",
       "</g>\r\n",
       "<!-- 18&#45;&gt;19 -->\r\n",
       "<g id=\"edge19\" class=\"edge\"><title>18&#45;&gt;19</title>\r\n",
       "<path fill=\"none\" stroke=\"black\" d=\"M804.5,-698.907C804.5,-690.649 804.5,-681.864 804.5,-673.302\"/>\r\n",
       "<polygon fill=\"black\" stroke=\"black\" points=\"808,-673.021 804.5,-663.021 801,-673.021 808,-673.021\"/>\r\n",
       "</g>\r\n",
       "<!-- 30 -->\r\n",
       "<g id=\"node31\" class=\"node\"><title>30</title>\r\n",
       "<path fill=\"#8139e5\" fill-opacity=\"0.937255\" stroke=\"black\" d=\"M1143,-663C1143,-663 940,-663 940,-663 934,-663 928,-657 928,-651 928,-651 928,-592 928,-592 928,-586 934,-580 940,-580 940,-580 1143,-580 1143,-580 1149,-580 1155,-586 1155,-592 1155,-592 1155,-651 1155,-651 1155,-657 1149,-663 1143,-663\"/>\r\n",
       "<text text-anchor=\"middle\" x=\"1041.5\" y=\"-647.8\" font-family=\"Helvetica,sans-Serif\" font-size=\"14.00\">od280/od315稀释葡萄酒 &lt;= 2.069</text>\r\n",
       "<text text-anchor=\"middle\" x=\"1041.5\" y=\"-632.8\" font-family=\"Helvetica,sans-Serif\" font-size=\"14.00\">gini = 0.111</text>\r\n",
       "<text text-anchor=\"middle\" x=\"1041.5\" y=\"-617.8\" font-family=\"Helvetica,sans-Serif\" font-size=\"14.00\">samples = 17</text>\r\n",
       "<text text-anchor=\"middle\" x=\"1041.5\" y=\"-602.8\" font-family=\"Helvetica,sans-Serif\" font-size=\"14.00\">value = [1, 0, 16]</text>\r\n",
       "<text text-anchor=\"middle\" x=\"1041.5\" y=\"-587.8\" font-family=\"Helvetica,sans-Serif\" font-size=\"14.00\">class = 贝尔摩德</text>\r\n",
       "</g>\r\n",
       "<!-- 18&#45;&gt;30 -->\r\n",
       "<g id=\"edge30\" class=\"edge\"><title>18&#45;&gt;30</title>\r\n",
       "<path fill=\"none\" stroke=\"black\" d=\"M869.261,-707.529C894.257,-695.189 923.301,-680.851 950.337,-667.505\"/>\r\n",
       "<polygon fill=\"black\" stroke=\"black\" points=\"952.002,-670.586 959.419,-663.021 948.903,-664.309 952.002,-670.586\"/>\r\n",
       "</g>\r\n",
       "<!-- 20 -->\r\n",
       "<g id=\"node21\" class=\"node\"><title>20</title>\r\n",
       "<path fill=\"#8139e5\" fill-opacity=\"0.952941\" stroke=\"black\" d=\"M812,-544C812,-544 715,-544 715,-544 709,-544 703,-538 703,-532 703,-532 703,-473 703,-473 703,-467 709,-461 715,-461 715,-461 812,-461 812,-461 818,-461 824,-467 824,-473 824,-473 824,-532 824,-532 824,-538 818,-544 812,-544\"/>\r\n",
       "<text text-anchor=\"middle\" x=\"763.5\" y=\"-528.8\" font-family=\"Helvetica,sans-Serif\" font-size=\"14.00\">苹果酸 &lt;= 1.816</text>\r\n",
       "<text text-anchor=\"middle\" x=\"763.5\" y=\"-513.8\" font-family=\"Helvetica,sans-Serif\" font-size=\"14.00\">gini = 0.087</text>\r\n",
       "<text text-anchor=\"middle\" x=\"763.5\" y=\"-498.8\" font-family=\"Helvetica,sans-Serif\" font-size=\"14.00\">samples = 22</text>\r\n",
       "<text text-anchor=\"middle\" x=\"763.5\" y=\"-483.8\" font-family=\"Helvetica,sans-Serif\" font-size=\"14.00\">value = [0, 1, 21]</text>\r\n",
       "<text text-anchor=\"middle\" x=\"763.5\" y=\"-468.8\" font-family=\"Helvetica,sans-Serif\" font-size=\"14.00\">class = 贝尔摩德</text>\r\n",
       "</g>\r\n",
       "<!-- 19&#45;&gt;20 -->\r\n",
       "<g id=\"edge20\" class=\"edge\"><title>19&#45;&gt;20</title>\r\n",
       "<path fill=\"none\" stroke=\"black\" d=\"M790.275,-579.907C787.318,-571.468 784.167,-562.477 781.105,-553.738\"/>\r\n",
       "<polygon fill=\"black\" stroke=\"black\" points=\"784.31,-552.301 777.7,-544.021 777.704,-554.616 784.31,-552.301\"/>\r\n",
       "</g>\r\n",
       "<!-- 25 -->\r\n",
       "<g id=\"node26\" class=\"node\"><title>25</title>\r\n",
       "<path fill=\"#e58139\" fill-opacity=\"0.901961\" stroke=\"black\" d=\"M951,-544C951,-544 854,-544 854,-544 848,-544 842,-538 842,-532 842,-532 842,-473 842,-473 842,-467 848,-461 854,-461 854,-461 951,-461 951,-461 957,-461 963,-467 963,-473 963,-473 963,-532 963,-532 963,-538 957,-544 951,-544\"/>\r\n",
       "<text text-anchor=\"middle\" x=\"902.5\" y=\"-528.8\" font-family=\"Helvetica,sans-Serif\" font-size=\"14.00\">酒精 &lt;= 12.921</text>\r\n",
       "<text text-anchor=\"middle\" x=\"902.5\" y=\"-513.8\" font-family=\"Helvetica,sans-Serif\" font-size=\"14.00\">gini = 0.165</text>\r\n",
       "<text text-anchor=\"middle\" x=\"902.5\" y=\"-498.8\" font-family=\"Helvetica,sans-Serif\" font-size=\"14.00\">samples = 33</text>\r\n",
       "<text text-anchor=\"middle\" x=\"902.5\" y=\"-483.8\" font-family=\"Helvetica,sans-Serif\" font-size=\"14.00\">value = [30, 3, 0]</text>\r\n",
       "<text text-anchor=\"middle\" x=\"902.5\" y=\"-468.8\" font-family=\"Helvetica,sans-Serif\" font-size=\"14.00\">class = 琴酒</text>\r\n",
       "</g>\r\n",
       "<!-- 19&#45;&gt;25 -->\r\n",
       "<g id=\"edge25\" class=\"edge\"><title>19&#45;&gt;25</title>\r\n",
       "<path fill=\"none\" stroke=\"black\" d=\"M838.501,-579.907C846.102,-570.832 854.236,-561.121 862.069,-551.769\"/>\r\n",
       "<polygon fill=\"black\" stroke=\"black\" points=\"864.821,-553.934 868.559,-544.021 859.455,-549.439 864.821,-553.934\"/>\r\n",
       "</g>\r\n",
       "<!-- 21 -->\r\n",
       "<g id=\"node22\" class=\"node\"><title>21</title>\r\n",
       "<path fill=\"#8139e5\" fill-opacity=\"0.749020\" stroke=\"black\" d=\"M676.5,-425C676.5,-425 568.5,-425 568.5,-425 562.5,-425 556.5,-419 556.5,-413 556.5,-413 556.5,-354 556.5,-354 556.5,-348 562.5,-342 568.5,-342 568.5,-342 676.5,-342 676.5,-342 682.5,-342 688.5,-348 688.5,-354 688.5,-354 688.5,-413 688.5,-413 688.5,-419 682.5,-425 676.5,-425\"/>\r\n",
       "<text text-anchor=\"middle\" x=\"622.5\" y=\"-409.8\" font-family=\"Helvetica,sans-Serif\" font-size=\"14.00\">脯氨酸 &lt;= 590.122</text>\r\n",
       "<text text-anchor=\"middle\" x=\"622.5\" y=\"-394.8\" font-family=\"Helvetica,sans-Serif\" font-size=\"14.00\">gini = 0.32</text>\r\n",
       "<text text-anchor=\"middle\" x=\"622.5\" y=\"-379.8\" font-family=\"Helvetica,sans-Serif\" font-size=\"14.00\">samples = 5</text>\r\n",
       "<text text-anchor=\"middle\" x=\"622.5\" y=\"-364.8\" font-family=\"Helvetica,sans-Serif\" font-size=\"14.00\">value = [0, 1, 4]</text>\r\n",
       "<text text-anchor=\"middle\" x=\"622.5\" y=\"-349.8\" font-family=\"Helvetica,sans-Serif\" font-size=\"14.00\">class = 贝尔摩德</text>\r\n",
       "</g>\r\n",
       "<!-- 20&#45;&gt;21 -->\r\n",
       "<g id=\"edge21\" class=\"edge\"><title>20&#45;&gt;21</title>\r\n",
       "<path fill=\"none\" stroke=\"black\" d=\"M714.581,-460.907C703.207,-451.469 691.003,-441.343 679.321,-431.649\"/>\r\n",
       "<polygon fill=\"black\" stroke=\"black\" points=\"681.263,-428.713 671.333,-425.021 676.793,-434.1 681.263,-428.713\"/>\r\n",
       "</g>\r\n",
       "<!-- 24 -->\r\n",
       "<g id=\"node25\" class=\"node\"><title>24</title>\r\n",
       "<path fill=\"#8139e5\" stroke=\"black\" d=\"M816,-417.5C816,-417.5 719,-417.5 719,-417.5 713,-417.5 707,-411.5 707,-405.5 707,-405.5 707,-361.5 707,-361.5 707,-355.5 713,-349.5 719,-349.5 719,-349.5 816,-349.5 816,-349.5 822,-349.5 828,-355.5 828,-361.5 828,-361.5 828,-405.5 828,-405.5 828,-411.5 822,-417.5 816,-417.5\"/>\r\n",
       "<text text-anchor=\"middle\" x=\"767.5\" y=\"-402.3\" font-family=\"Helvetica,sans-Serif\" font-size=\"14.00\">gini = 0.0</text>\r\n",
       "<text text-anchor=\"middle\" x=\"767.5\" y=\"-387.3\" font-family=\"Helvetica,sans-Serif\" font-size=\"14.00\">samples = 17</text>\r\n",
       "<text text-anchor=\"middle\" x=\"767.5\" y=\"-372.3\" font-family=\"Helvetica,sans-Serif\" font-size=\"14.00\">value = [0, 0, 17]</text>\r\n",
       "<text text-anchor=\"middle\" x=\"767.5\" y=\"-357.3\" font-family=\"Helvetica,sans-Serif\" font-size=\"14.00\">class = 贝尔摩德</text>\r\n",
       "</g>\r\n",
       "<!-- 20&#45;&gt;24 -->\r\n",
       "<g id=\"edge24\" class=\"edge\"><title>20&#45;&gt;24</title>\r\n",
       "<path fill=\"none\" stroke=\"black\" d=\"M764.888,-460.907C765.254,-450.204 765.65,-438.615 766.02,-427.776\"/>\r\n",
       "<polygon fill=\"black\" stroke=\"black\" points=\"769.522,-427.781 766.366,-417.667 762.526,-427.541 769.522,-427.781\"/>\r\n",
       "</g>\r\n",
       "<!-- 22 -->\r\n",
       "<g id=\"node23\" class=\"node\"><title>22</title>\r\n",
       "<path fill=\"#39e581\" stroke=\"black\" d=\"M663,-298.5C663,-298.5 574,-298.5 574,-298.5 568,-298.5 562,-292.5 562,-286.5 562,-286.5 562,-242.5 562,-242.5 562,-236.5 568,-230.5 574,-230.5 574,-230.5 663,-230.5 663,-230.5 669,-230.5 675,-236.5 675,-242.5 675,-242.5 675,-286.5 675,-286.5 675,-292.5 669,-298.5 663,-298.5\"/>\r\n",
       "<text text-anchor=\"middle\" x=\"618.5\" y=\"-283.3\" font-family=\"Helvetica,sans-Serif\" font-size=\"14.00\">gini = 0.0</text>\r\n",
       "<text text-anchor=\"middle\" x=\"618.5\" y=\"-268.3\" font-family=\"Helvetica,sans-Serif\" font-size=\"14.00\">samples = 1</text>\r\n",
       "<text text-anchor=\"middle\" x=\"618.5\" y=\"-253.3\" font-family=\"Helvetica,sans-Serif\" font-size=\"14.00\">value = [0, 1, 0]</text>\r\n",
       "<text text-anchor=\"middle\" x=\"618.5\" y=\"-238.3\" font-family=\"Helvetica,sans-Serif\" font-size=\"14.00\">class = 雪莉</text>\r\n",
       "</g>\r\n",
       "<!-- 21&#45;&gt;22 -->\r\n",
       "<g id=\"edge22\" class=\"edge\"><title>21&#45;&gt;22</title>\r\n",
       "<path fill=\"none\" stroke=\"black\" d=\"M621.112,-341.907C620.746,-331.204 620.35,-319.615 619.98,-308.776\"/>\r\n",
       "<polygon fill=\"black\" stroke=\"black\" points=\"623.474,-308.541 619.634,-298.667 616.478,-308.781 623.474,-308.541\"/>\r\n",
       "</g>\r\n",
       "<!-- 23 -->\r\n",
       "<g id=\"node24\" class=\"node\"><title>23</title>\r\n",
       "<path fill=\"#8139e5\" stroke=\"black\" d=\"M797.5,-298.5C797.5,-298.5 705.5,-298.5 705.5,-298.5 699.5,-298.5 693.5,-292.5 693.5,-286.5 693.5,-286.5 693.5,-242.5 693.5,-242.5 693.5,-236.5 699.5,-230.5 705.5,-230.5 705.5,-230.5 797.5,-230.5 797.5,-230.5 803.5,-230.5 809.5,-236.5 809.5,-242.5 809.5,-242.5 809.5,-286.5 809.5,-286.5 809.5,-292.5 803.5,-298.5 797.5,-298.5\"/>\r\n",
       "<text text-anchor=\"middle\" x=\"751.5\" y=\"-283.3\" font-family=\"Helvetica,sans-Serif\" font-size=\"14.00\">gini = 0.0</text>\r\n",
       "<text text-anchor=\"middle\" x=\"751.5\" y=\"-268.3\" font-family=\"Helvetica,sans-Serif\" font-size=\"14.00\">samples = 4</text>\r\n",
       "<text text-anchor=\"middle\" x=\"751.5\" y=\"-253.3\" font-family=\"Helvetica,sans-Serif\" font-size=\"14.00\">value = [0, 0, 4]</text>\r\n",
       "<text text-anchor=\"middle\" x=\"751.5\" y=\"-238.3\" font-family=\"Helvetica,sans-Serif\" font-size=\"14.00\">class = 贝尔摩德</text>\r\n",
       "</g>\r\n",
       "<!-- 21&#45;&gt;23 -->\r\n",
       "<g id=\"edge23\" class=\"edge\"><title>21&#45;&gt;23</title>\r\n",
       "<path fill=\"none\" stroke=\"black\" d=\"M667.256,-341.907C680.274,-330.101 694.479,-317.217 707.453,-305.45\"/>\r\n",
       "<polygon fill=\"black\" stroke=\"black\" points=\"709.875,-307.978 714.931,-298.667 705.173,-302.793 709.875,-307.978\"/>\r\n",
       "</g>\r\n",
       "<!-- 26 -->\r\n",
       "<g id=\"node27\" class=\"node\"><title>26</title>\r\n",
       "<path fill=\"#39e581\" stroke=\"black\" d=\"M947,-417.5C947,-417.5 858,-417.5 858,-417.5 852,-417.5 846,-411.5 846,-405.5 846,-405.5 846,-361.5 846,-361.5 846,-355.5 852,-349.5 858,-349.5 858,-349.5 947,-349.5 947,-349.5 953,-349.5 959,-355.5 959,-361.5 959,-361.5 959,-405.5 959,-405.5 959,-411.5 953,-417.5 947,-417.5\"/>\r\n",
       "<text text-anchor=\"middle\" x=\"902.5\" y=\"-402.3\" font-family=\"Helvetica,sans-Serif\" font-size=\"14.00\">gini = 0.0</text>\r\n",
       "<text text-anchor=\"middle\" x=\"902.5\" y=\"-387.3\" font-family=\"Helvetica,sans-Serif\" font-size=\"14.00\">samples = 2</text>\r\n",
       "<text text-anchor=\"middle\" x=\"902.5\" y=\"-372.3\" font-family=\"Helvetica,sans-Serif\" font-size=\"14.00\">value = [0, 2, 0]</text>\r\n",
       "<text text-anchor=\"middle\" x=\"902.5\" y=\"-357.3\" font-family=\"Helvetica,sans-Serif\" font-size=\"14.00\">class = 雪莉</text>\r\n",
       "</g>\r\n",
       "<!-- 25&#45;&gt;26 -->\r\n",
       "<g id=\"edge26\" class=\"edge\"><title>25&#45;&gt;26</title>\r\n",
       "<path fill=\"none\" stroke=\"black\" d=\"M902.5,-460.907C902.5,-450.204 902.5,-438.615 902.5,-427.776\"/>\r\n",
       "<polygon fill=\"black\" stroke=\"black\" points=\"906,-427.667 902.5,-417.667 899,-427.667 906,-427.667\"/>\r\n",
       "</g>\r\n",
       "<!-- 27 -->\r\n",
       "<g id=\"node28\" class=\"node\"><title>27</title>\r\n",
       "<path fill=\"#e58139\" fill-opacity=\"0.964706\" stroke=\"black\" d=\"M1097.5,-425C1097.5,-425 989.5,-425 989.5,-425 983.5,-425 977.5,-419 977.5,-413 977.5,-413 977.5,-354 977.5,-354 977.5,-348 983.5,-342 989.5,-342 989.5,-342 1097.5,-342 1097.5,-342 1103.5,-342 1109.5,-348 1109.5,-354 1109.5,-354 1109.5,-413 1109.5,-413 1109.5,-419 1103.5,-425 1097.5,-425\"/>\r\n",
       "<text text-anchor=\"middle\" x=\"1043.5\" y=\"-409.8\" font-family=\"Helvetica,sans-Serif\" font-size=\"14.00\">脯氨酸 &lt;= 733.788</text>\r\n",
       "<text text-anchor=\"middle\" x=\"1043.5\" y=\"-394.8\" font-family=\"Helvetica,sans-Serif\" font-size=\"14.00\">gini = 0.062</text>\r\n",
       "<text text-anchor=\"middle\" x=\"1043.5\" y=\"-379.8\" font-family=\"Helvetica,sans-Serif\" font-size=\"14.00\">samples = 31</text>\r\n",
       "<text text-anchor=\"middle\" x=\"1043.5\" y=\"-364.8\" font-family=\"Helvetica,sans-Serif\" font-size=\"14.00\">value = [30, 1, 0]</text>\r\n",
       "<text text-anchor=\"middle\" x=\"1043.5\" y=\"-349.8\" font-family=\"Helvetica,sans-Serif\" font-size=\"14.00\">class = 琴酒</text>\r\n",
       "</g>\r\n",
       "<!-- 25&#45;&gt;27 -->\r\n",
       "<g id=\"edge27\" class=\"edge\"><title>25&#45;&gt;27</title>\r\n",
       "<path fill=\"none\" stroke=\"black\" d=\"M951.419,-460.907C962.793,-451.469 974.997,-441.343 986.679,-431.649\"/>\r\n",
       "<polygon fill=\"black\" stroke=\"black\" points=\"989.207,-434.1 994.667,-425.021 984.737,-428.713 989.207,-434.1\"/>\r\n",
       "</g>\r\n",
       "<!-- 28 -->\r\n",
       "<g id=\"node29\" class=\"node\"><title>28</title>\r\n",
       "<path fill=\"#39e581\" stroke=\"black\" d=\"M1020,-298.5C1020,-298.5 931,-298.5 931,-298.5 925,-298.5 919,-292.5 919,-286.5 919,-286.5 919,-242.5 919,-242.5 919,-236.5 925,-230.5 931,-230.5 931,-230.5 1020,-230.5 1020,-230.5 1026,-230.5 1032,-236.5 1032,-242.5 1032,-242.5 1032,-286.5 1032,-286.5 1032,-292.5 1026,-298.5 1020,-298.5\"/>\r\n",
       "<text text-anchor=\"middle\" x=\"975.5\" y=\"-283.3\" font-family=\"Helvetica,sans-Serif\" font-size=\"14.00\">gini = 0.0</text>\r\n",
       "<text text-anchor=\"middle\" x=\"975.5\" y=\"-268.3\" font-family=\"Helvetica,sans-Serif\" font-size=\"14.00\">samples = 1</text>\r\n",
       "<text text-anchor=\"middle\" x=\"975.5\" y=\"-253.3\" font-family=\"Helvetica,sans-Serif\" font-size=\"14.00\">value = [0, 1, 0]</text>\r\n",
       "<text text-anchor=\"middle\" x=\"975.5\" y=\"-238.3\" font-family=\"Helvetica,sans-Serif\" font-size=\"14.00\">class = 雪莉</text>\r\n",
       "</g>\r\n",
       "<!-- 27&#45;&gt;28 -->\r\n",
       "<g id=\"edge28\" class=\"edge\"><title>27&#45;&gt;28</title>\r\n",
       "<path fill=\"none\" stroke=\"black\" d=\"M1019.91,-341.907C1013.43,-330.763 1006.4,-318.658 999.875,-307.439\"/>\r\n",
       "<polygon fill=\"black\" stroke=\"black\" points=\"1002.83,-305.554 994.777,-298.667 996.775,-309.072 1002.83,-305.554\"/>\r\n",
       "</g>\r\n",
       "<!-- 29 -->\r\n",
       "<g id=\"node30\" class=\"node\"><title>29</title>\r\n",
       "<path fill=\"#e58139\" stroke=\"black\" d=\"M1159,-298.5C1159,-298.5 1062,-298.5 1062,-298.5 1056,-298.5 1050,-292.5 1050,-286.5 1050,-286.5 1050,-242.5 1050,-242.5 1050,-236.5 1056,-230.5 1062,-230.5 1062,-230.5 1159,-230.5 1159,-230.5 1165,-230.5 1171,-236.5 1171,-242.5 1171,-242.5 1171,-286.5 1171,-286.5 1171,-292.5 1165,-298.5 1159,-298.5\"/>\r\n",
       "<text text-anchor=\"middle\" x=\"1110.5\" y=\"-283.3\" font-family=\"Helvetica,sans-Serif\" font-size=\"14.00\">gini = 0.0</text>\r\n",
       "<text text-anchor=\"middle\" x=\"1110.5\" y=\"-268.3\" font-family=\"Helvetica,sans-Serif\" font-size=\"14.00\">samples = 30</text>\r\n",
       "<text text-anchor=\"middle\" x=\"1110.5\" y=\"-253.3\" font-family=\"Helvetica,sans-Serif\" font-size=\"14.00\">value = [30, 0, 0]</text>\r\n",
       "<text text-anchor=\"middle\" x=\"1110.5\" y=\"-238.3\" font-family=\"Helvetica,sans-Serif\" font-size=\"14.00\">class = 琴酒</text>\r\n",
       "</g>\r\n",
       "<!-- 27&#45;&gt;29 -->\r\n",
       "<g id=\"edge29\" class=\"edge\"><title>27&#45;&gt;29</title>\r\n",
       "<path fill=\"none\" stroke=\"black\" d=\"M1066.75,-341.907C1073.13,-330.763 1080.06,-318.658 1086.48,-307.439\"/>\r\n",
       "<polygon fill=\"black\" stroke=\"black\" points=\"1089.57,-309.084 1091.51,-298.667 1083.5,-305.606 1089.57,-309.084\"/>\r\n",
       "</g>\r\n",
       "<!-- 31 -->\r\n",
       "<g id=\"node32\" class=\"node\"><title>31</title>\r\n",
       "<path fill=\"#8139e5\" stroke=\"black\" d=\"M1090,-536.5C1090,-536.5 993,-536.5 993,-536.5 987,-536.5 981,-530.5 981,-524.5 981,-524.5 981,-480.5 981,-480.5 981,-474.5 987,-468.5 993,-468.5 993,-468.5 1090,-468.5 1090,-468.5 1096,-468.5 1102,-474.5 1102,-480.5 1102,-480.5 1102,-524.5 1102,-524.5 1102,-530.5 1096,-536.5 1090,-536.5\"/>\r\n",
       "<text text-anchor=\"middle\" x=\"1041.5\" y=\"-521.3\" font-family=\"Helvetica,sans-Serif\" font-size=\"14.00\">gini = 0.0</text>\r\n",
       "<text text-anchor=\"middle\" x=\"1041.5\" y=\"-506.3\" font-family=\"Helvetica,sans-Serif\" font-size=\"14.00\">samples = 16</text>\r\n",
       "<text text-anchor=\"middle\" x=\"1041.5\" y=\"-491.3\" font-family=\"Helvetica,sans-Serif\" font-size=\"14.00\">value = [0, 0, 16]</text>\r\n",
       "<text text-anchor=\"middle\" x=\"1041.5\" y=\"-476.3\" font-family=\"Helvetica,sans-Serif\" font-size=\"14.00\">class = 贝尔摩德</text>\r\n",
       "</g>\r\n",
       "<!-- 30&#45;&gt;31 -->\r\n",
       "<g id=\"edge31\" class=\"edge\"><title>30&#45;&gt;31</title>\r\n",
       "<path fill=\"none\" stroke=\"black\" d=\"M1041.5,-579.907C1041.5,-569.204 1041.5,-557.615 1041.5,-546.776\"/>\r\n",
       "<polygon fill=\"black\" stroke=\"black\" points=\"1045,-546.667 1041.5,-536.667 1038,-546.667 1045,-546.667\"/>\r\n",
       "</g>\r\n",
       "<!-- 32 -->\r\n",
       "<g id=\"node33\" class=\"node\"><title>32</title>\r\n",
       "<path fill=\"#e58139\" stroke=\"black\" d=\"M1221,-536.5C1221,-536.5 1132,-536.5 1132,-536.5 1126,-536.5 1120,-530.5 1120,-524.5 1120,-524.5 1120,-480.5 1120,-480.5 1120,-474.5 1126,-468.5 1132,-468.5 1132,-468.5 1221,-468.5 1221,-468.5 1227,-468.5 1233,-474.5 1233,-480.5 1233,-480.5 1233,-524.5 1233,-524.5 1233,-530.5 1227,-536.5 1221,-536.5\"/>\r\n",
       "<text text-anchor=\"middle\" x=\"1176.5\" y=\"-521.3\" font-family=\"Helvetica,sans-Serif\" font-size=\"14.00\">gini = 0.0</text>\r\n",
       "<text text-anchor=\"middle\" x=\"1176.5\" y=\"-506.3\" font-family=\"Helvetica,sans-Serif\" font-size=\"14.00\">samples = 1</text>\r\n",
       "<text text-anchor=\"middle\" x=\"1176.5\" y=\"-491.3\" font-family=\"Helvetica,sans-Serif\" font-size=\"14.00\">value = [1, 0, 0]</text>\r\n",
       "<text text-anchor=\"middle\" x=\"1176.5\" y=\"-476.3\" font-family=\"Helvetica,sans-Serif\" font-size=\"14.00\">class = 琴酒</text>\r\n",
       "</g>\r\n",
       "<!-- 30&#45;&gt;32 -->\r\n",
       "<g id=\"edge32\" class=\"edge\"><title>30&#45;&gt;32</title>\r\n",
       "<path fill=\"none\" stroke=\"black\" d=\"M1088.34,-579.907C1101.96,-568.101 1116.83,-555.217 1130.4,-543.45\"/>\r\n",
       "<polygon fill=\"black\" stroke=\"black\" points=\"1132.97,-545.861 1138.23,-536.667 1128.38,-540.571 1132.97,-545.861\"/>\r\n",
       "</g>\r\n",
       "</g>\r\n",
       "</svg>\r\n"
      ],
      "text/plain": [
       "<graphviz.files.Source at 0xc67b390>"
      ]
     },
     "execution_count": 42,
     "metadata": {},
     "output_type": "execute_result"
    }
   ],
   "source": [
    "dot_data=tree.export_graphviz(clf,feature_names=feature_name,class_names=[\"琴酒\",\"雪莉\",\"贝尔摩德\"],filled=True,rounded=True)\n",
    "graph=graphviz.Source(dot_data)\n",
    "graph"
   ]
  },
  {
   "cell_type": "code",
   "execution_count": 35,
   "metadata": {},
   "outputs": [
    {
     "data": {
      "text/plain": [
       "array([0.        , 0.01930805, 0.        , 0.0209426 , 0.        ,\n",
       "       0.        , 0.40393716, 0.        , 0.        , 0.39576989,\n",
       "       0.        , 0.        , 0.1600423 ])"
      ]
     },
     "execution_count": 35,
     "metadata": {},
     "output_type": "execute_result"
    }
   ],
   "source": [
    "#特征重要性\n",
    "clf.feature_importances_"
   ]
  },
  {
   "cell_type": "code",
   "execution_count": 36,
   "metadata": {},
   "outputs": [
    {
     "data": {
      "text/plain": [
       "[('酒精', 0.0),\n",
       " ('苹果酸', 0.019308052575917816),\n",
       " ('灰', 0.0),\n",
       " ('灰的碱性', 0.020942596709328833),\n",
       " ('镁', 0.0),\n",
       " ('总酚', 0.0),\n",
       " ('类黄酮', 0.4039371631388027),\n",
       " ('非黄烷类酚类', 0.0),\n",
       " ('花青素', 0.0),\n",
       " ('颜色强度', 0.395769885113343),\n",
       " ('色调', 0.0),\n",
       " ('od280/od315稀释葡萄酒', 0.0),\n",
       " ('脯氨酸', 0.16004230246260764)]"
      ]
     },
     "execution_count": 36,
     "metadata": {},
     "output_type": "execute_result"
    }
   ],
   "source": [
    "[*zip(feature_name,clf.feature_importances_)]"
   ]
  },
  {
   "cell_type": "code",
   "execution_count": 37,
   "metadata": {},
   "outputs": [
    {
     "data": {
      "text/plain": [
       "13"
      ]
     },
     "execution_count": 37,
     "metadata": {},
     "output_type": "execute_result"
    }
   ],
   "source": [
    "#节点个数\n",
    "clf.tree_.node_count"
   ]
  },
  {
   "cell_type": "code",
   "execution_count": 38,
   "metadata": {},
   "outputs": [
    {
     "data": {
      "text/plain": [
       "array([ 9, 12, -2, -2,  6,  3, -2, -2, 12,  1, -2, -2, -2], dtype=int64)"
      ]
     },
     "execution_count": 38,
     "metadata": {},
     "output_type": "execute_result"
    }
   ],
   "source": [
    "clf.tree_.feature"
   ]
  },
  {
   "cell_type": "code",
   "execution_count": 46,
   "metadata": {},
   "outputs": [
    {
     "data": {
      "image/png": "[encoded data removed]",
      "text/plain": [
       "<Figure size 432x288 with 1 Axes>"
      ]
     },
     "metadata": {
      "needs_background": "light"
     },
     "output_type": "display_data"
    }
   ],
   "source": [
    "score=[]\n",
    "for i in range(10):\n",
    "    clf=DecisionTreeClassifier(max_depth=i+1,criterion=\"gini\",random_state=50)\n",
    "    clf=clf.fit(Xtrain,Ytrain)\n",
    "    score.append(clf.score(Xtest, Ytest))\n",
    "plt.plot(range(1,11),score,color=\"red\",label=\"max_depth\")\n",
    "plt.legend()\n",
    "plt.show()"
   ]
  },
  {
   "cell_type": "markdown",
   "metadata": {},
   "source": [
    "# 样本不平衡问题"
   ]
  },
  {
   "cell_type": "code",
   "execution_count": 47,
   "metadata": {},
   "outputs": [],
   "source": [
    "from sklearn.tree import DecisionTreeClassifier\n",
    "from sklearn.datasets import make_blobs"
   ]
  },
  {
   "cell_type": "code",
   "execution_count": 48,
   "metadata": {},
   "outputs": [
    {
     "data": {
      "image/png": "[encoded data removed]",
      "text/plain": [
       "<Figure size 432x288 with 1 Axes>"
      ]
     },
     "metadata": {
      "needs_background": "light"
     },
     "output_type": "display_data"
    }
   ],
   "source": [
    "class_1 = 1000 #类别1有1000个样本\n",
    "class_2 = 100 #类别2只有100个\n",
    "centers = [[0,0], [2.0, 2.0]] #设定两个类别的中心\n",
    "clusters_std = [2.5, 0.5] #设定两个类别的方差，通常来说，样本量比较大的类别会更加松散\n",
    "X, y = make_blobs(n_samples=[class_1, class_2],\n",
    "                  centers=centers,\n",
    "                  cluster_std=clusters_std,\n",
    "                  random_state=420,shuffle=False)\n",
    "\n",
    "#看看数据集长什么样\n",
    "plt.scatter(X[:, 0], X[:, 1], c=y, cmap=\"rainbow\",s=10);\n",
    "#其中红色点是少数类，紫色点是多数类\n",
    "\n"
   ]
  },
  {
   "cell_type": "code",
   "execution_count": 49,
   "metadata": {},
   "outputs": [],
   "source": [
    "# 划分数据集\n",
    "Xtrain,Xtest,Ytrain,Ytest=train_test_split(X,y,test_size=0.2,random_state=420)"
   ]
  },
  {
   "cell_type": "code",
   "execution_count": 50,
   "metadata": {},
   "outputs": [
    {
     "data": {
      "text/plain": [
       "array([0, 0, 0, 0, 0, 0, 0, 0, 0, 0, 0, 1, 0, 0, 0, 0, 0, 0, 0, 0, 0, 0,\n",
       "       0, 0, 0, 0, 0, 0, 0, 0, 0, 0, 1, 1, 0, 0, 0, 0, 0, 0, 0, 0, 0, 0,\n",
       "       0, 1, 0, 0, 0, 0, 0, 1, 0, 0, 0, 0, 0, 0, 0, 0, 0, 0, 0, 0, 0, 0,\n",
       "       0, 1, 0, 0, 0, 0, 1, 0, 0, 0, 0, 1, 0, 0, 0, 0, 0, 0, 0, 0, 0, 0,\n",
       "       0, 0, 0, 0, 0, 0, 0, 0, 0, 0, 0, 1, 0, 0, 0, 0, 0, 0, 0, 0, 0, 0,\n",
       "       0, 0, 0, 0, 0, 0, 1, 0, 0, 1, 0, 0, 0, 0, 1, 0, 0, 0, 0, 1, 0, 0,\n",
       "       0, 0, 0, 1, 1, 0, 0, 0, 0, 0, 0, 0, 0, 0, 1, 0, 0, 0, 0, 0, 0, 0,\n",
       "       0, 0, 1, 0, 0, 0, 0, 0, 0, 1, 0, 0, 0, 0, 0, 0, 0, 0, 0, 0, 0, 0,\n",
       "       0, 0, 0, 0, 1, 0, 0, 0, 0, 0, 1, 0, 0, 1, 0, 0, 0, 0, 0, 0, 1, 0,\n",
       "       0, 0, 0, 0, 0, 0, 0, 0, 0, 0, 0, 0, 0, 0, 0, 0, 0, 0, 0, 0, 0, 0])"
      ]
     },
     "execution_count": 50,
     "metadata": {},
     "output_type": "execute_result"
    }
   ],
   "source": [
    "#不设定class_weight\n",
    "clf = DecisionTreeClassifier()\n",
    "clf.fit(Xtrain, Ytrain)\n",
    "clf.predict(Xtest)"
   ]
  },
  {
   "cell_type": "code",
   "execution_count": 51,
   "metadata": {},
   "outputs": [
    {
     "data": {
      "text/plain": [
       "array([0, 0, 0, 0, 0, 0, 0, 0, 0, 0, 0, 1, 0, 0, 0, 0, 0, 0, 0, 0, 0, 0,\n",
       "       0, 0, 0, 0, 0, 0, 0, 0, 0, 0, 1, 1, 0, 0, 0, 0, 0, 0, 0, 0, 1, 0,\n",
       "       1, 1, 0, 0, 0, 0, 0, 1, 0, 0, 0, 0, 0, 0, 0, 0, 0, 0, 0, 0, 0, 0,\n",
       "       0, 1, 0, 0, 0, 0, 1, 0, 0, 0, 0, 1, 1, 0, 0, 0, 0, 0, 0, 0, 0, 0,\n",
       "       0, 0, 0, 0, 0, 0, 0, 0, 0, 0, 0, 1, 0, 0, 0, 1, 0, 0, 0, 0, 0, 0,\n",
       "       0, 0, 0, 0, 0, 0, 1, 0, 0, 1, 0, 0, 0, 1, 1, 0, 0, 0, 0, 1, 0, 0,\n",
       "       0, 0, 0, 0, 1, 0, 0, 0, 0, 0, 0, 0, 0, 0, 1, 0, 0, 0, 0, 0, 0, 0,\n",
       "       0, 0, 0, 0, 0, 0, 0, 0, 0, 1, 0, 0, 0, 0, 0, 0, 0, 0, 0, 1, 0, 0,\n",
       "       0, 0, 0, 0, 0, 0, 0, 0, 0, 0, 1, 0, 0, 1, 0, 0, 0, 0, 1, 0, 1, 0,\n",
       "       0, 0, 0, 0, 0, 0, 0, 0, 0, 0, 0, 0, 0, 0, 0, 0, 0, 0, 0, 0, 0, 0])"
      ]
     },
     "execution_count": 51,
     "metadata": {},
     "output_type": "execute_result"
    }
   ],
   "source": [
    "#设定class_weight\n",
    "wclf = DecisionTreeClassifier(class_weight='balanced')\n",
    "wclf.fit(Xtrain, Ytrain)\n",
    "wclf.predict(Xtest)"
   ]
  },
  {
   "cell_type": "code",
   "execution_count": 52,
   "metadata": {},
   "outputs": [
    {
     "data": {
      "text/plain": [
       "0.8954545454545455"
      ]
     },
     "execution_count": 52,
     "metadata": {},
     "output_type": "execute_result"
    }
   ],
   "source": [
    "#给两个模型分别打分看看，这个分数是accuracy准确度\n",
    "clf.score(Xtest,Ytest)"
   ]
  },
  {
   "cell_type": "code",
   "execution_count": 53,
   "metadata": {},
   "outputs": [
    {
     "data": {
      "text/plain": [
       "0.9045454545454545"
      ]
     },
     "execution_count": 53,
     "metadata": {},
     "output_type": "execute_result"
    }
   ],
   "source": [
    "wclf.score(Xtest,Ytest)"
   ]
  },
  {
   "cell_type": "markdown",
   "metadata": {},
   "source": [
    "# 混淆矩阵"
   ]
  },
  {
   "cell_type": "code",
   "execution_count": 59,
   "metadata": {},
   "outputs": [],
   "source": [
    "#precision"
   ]
  },
  {
   "cell_type": "code",
   "execution_count": 64,
   "metadata": {},
   "outputs": [],
   "source": [
    "p1=(Ytest[Ytest == clf.predict(Xtest)] == 1).sum()/(clf.predict(Xtest) == 1).sum()"
   ]
  },
  {
   "cell_type": "code",
   "execution_count": 66,
   "metadata": {},
   "outputs": [],
   "source": [
    "p2=(Ytest[Ytest == clf.predict(Xtest)] == 1).sum()/(wclf.predict(Xtest) == 1).sum()"
   ]
  },
  {
   "cell_type": "code",
   "execution_count": 58,
   "metadata": {},
   "outputs": [],
   "source": [
    "#recall"
   ]
  },
  {
   "cell_type": "code",
   "execution_count": 67,
   "metadata": {},
   "outputs": [],
   "source": [
    "r1=(Ytest[Ytest == clf.predict(Xtest)] == 1).sum()/(Ytest == 1).sum()"
   ]
  },
  {
   "cell_type": "code",
   "execution_count": 68,
   "metadata": {},
   "outputs": [],
   "source": [
    "r2=(Ytest[Ytest == wclf.predict(Xtest)] == 1).sum()/(Ytest == 1).sum()"
   ]
  },
  {
   "cell_type": "code",
   "execution_count": 62,
   "metadata": {},
   "outputs": [],
   "source": [
    "#F measure"
   ]
  },
  {
   "cell_type": "code",
   "execution_count": 69,
   "metadata": {},
   "outputs": [
    {
     "data": {
      "text/plain": [
       "0.5490196078431373"
      ]
     },
     "execution_count": 69,
     "metadata": {},
     "output_type": "execute_result"
    }
   ],
   "source": [
    "f1=2*p1*r1/(p1+r1)\n",
    "f1"
   ]
  },
  {
   "cell_type": "code",
   "execution_count": 71,
   "metadata": {},
   "outputs": [
    {
     "data": {
      "text/plain": [
       "0.5613207547169811"
      ]
     },
     "execution_count": 71,
     "metadata": {},
     "output_type": "execute_result"
    }
   ],
   "source": [
    "f2=2*p2*r2/(p2+r2)\n",
    "f2"
   ]
  },
  {
   "cell_type": "code",
   "execution_count": 72,
   "metadata": {},
   "outputs": [],
   "source": [
    "#混淆矩阵库"
   ]
  },
  {
   "cell_type": "code",
   "execution_count": 73,
   "metadata": {},
   "outputs": [],
   "source": [
    "from sklearn import metrics"
   ]
  },
  {
   "cell_type": "code",
   "execution_count": 74,
   "metadata": {},
   "outputs": [],
   "source": [
    "ypred=wclf.predict(Xtest)"
   ]
  },
  {
   "cell_type": "code",
   "execution_count": 75,
   "metadata": {},
   "outputs": [
    {
     "data": {
      "text/plain": [
       "0.9045454545454545"
      ]
     },
     "execution_count": 75,
     "metadata": {},
     "output_type": "execute_result"
    }
   ],
   "source": [
    "#accuracy\n",
    "metrics.accuracy_score(Ytest,ypred)"
   ]
  },
  {
   "cell_type": "code",
   "execution_count": 76,
   "metadata": {},
   "outputs": [
    {
     "data": {
      "text/plain": [
       "0.6538461538461539"
      ]
     },
     "execution_count": 76,
     "metadata": {},
     "output_type": "execute_result"
    }
   ],
   "source": [
    "#precision\n",
    "metrics.precision_score(Ytest,ypred)"
   ]
  },
  {
   "cell_type": "code",
   "execution_count": 77,
   "metadata": {},
   "outputs": [
    {
     "data": {
      "text/plain": [
       "0.5862068965517241"
      ]
     },
     "execution_count": 77,
     "metadata": {},
     "output_type": "execute_result"
    }
   ],
   "source": [
    "#recall\n",
    "metrics.recall_score(Ytest,ypred)"
   ]
  },
  {
   "cell_type": "code",
   "execution_count": 78,
   "metadata": {
    "scrolled": true
   },
   "outputs": [
    {
     "data": {
      "text/plain": [
       "0.6181818181818182"
      ]
     },
     "execution_count": 78,
     "metadata": {},
     "output_type": "execute_result"
    }
   ],
   "source": [
    "#F1\n",
    "metrics.f1_score(Ytest,ypred)"
   ]
  },
  {
   "cell_type": "markdown",
   "metadata": {},
   "source": [
    "# 网络搜索"
   ]
  },
  {
   "cell_type": "code",
   "execution_count": 87,
   "metadata": {},
   "outputs": [],
   "source": [
    "# 划分数据集\n",
    "Xtrain,Xtest,Ytrain,Ytest=train_test_split(X,y,test_size=0.2,random_state=420)"
   ]
  },
  {
   "cell_type": "code",
   "execution_count": 88,
   "metadata": {},
   "outputs": [],
   "source": [
    "from sklearn.model_selection import GridSearchCV"
   ]
  },
  {
   "cell_type": "code",
   "execution_count": 89,
   "metadata": {},
   "outputs": [
    {
     "data": {
      "text/plain": [
       "GridSearchCV(cv=5, error_score='raise-deprecating',\n",
       "       estimator=DecisionTreeClassifier(class_weight=None, criterion='gini', max_depth=None,\n",
       "            max_features=None, max_leaf_nodes=None,\n",
       "            min_impurity_decrease=0.0, min_impurity_split=None,\n",
       "            min_samples_leaf=1, min_samples_split=2,\n",
       "            min_weight_fraction_leaf=0.0, presort=False, random_state=None,\n",
       "            splitter='best'),\n",
       "       fit_params=None, iid='warn', n_jobs=None,\n",
       "       param_grid={'criterion': ['entropy', 'gini'], 'max_depth': range(2, 11), 'min_samples_split': range(2, 20, 2), 'min_samples_leaf': range(1, 10)},\n",
       "       pre_dispatch='2*n_jobs', refit=True, return_train_score='warn',\n",
       "       scoring=None, verbose=0)"
      ]
     },
     "execution_count": 89,
     "metadata": {},
     "output_type": "execute_result"
    }
   ],
   "source": [
    "#设置参数可取值\n",
    "parm_grid={\"criterion\":[\"entropy\",\"gini\"],\"max_depth\":range(2,11),\"min_samples_split\":range(2,20,2),\"min_samples_leaf\":range(1,10)}\n",
    "#设置参数网格\n",
    "reg=GridSearchCV(DecisionTreeClassifier(),parm_grid,cv=5)\n",
    "#建模\n",
    "reg.fit(Xtrain,Ytrain)"
   ]
  },
  {
   "cell_type": "code",
   "execution_count": 90,
   "metadata": {},
   "outputs": [
    {
     "data": {
      "text/plain": [
       "{'criterion': 'gini',\n",
       " 'max_depth': 4,\n",
       " 'min_samples_leaf': 2,\n",
       " 'min_samples_split': 10}"
      ]
     },
     "execution_count": 90,
     "metadata": {},
     "output_type": "execute_result"
    }
   ],
   "source": [
    "#最优参数\n",
    "reg.best_params_"
   ]
  },
  {
   "cell_type": "code",
   "execution_count": 91,
   "metadata": {},
   "outputs": [
    {
     "data": {
      "text/plain": [
       "0.9534090909090909"
      ]
     },
     "execution_count": 91,
     "metadata": {},
     "output_type": "execute_result"
    }
   ],
   "source": [
    "reg.best_score_"
   ]
  },
  {
   "cell_type": "code",
   "execution_count": 92,
   "metadata": {},
   "outputs": [
    {
     "data": {
      "text/plain": [
       "0.9318181818181818"
      ]
     },
     "execution_count": 92,
     "metadata": {},
     "output_type": "execute_result"
    }
   ],
   "source": [
    "clf=DecisionTreeClassifier(criterion=\"gini\",max_depth=4,min_samples_split=6,min_samples_leaf=5)\n",
    "clf.fit(Xtrain,Ytrain)\n",
    "clf.score(Xtest,Ytest)"
   ]
  },
  {
   "cell_type": "code",
   "execution_count": null,
   "metadata": {},
   "outputs": [],
   "source": []
  }
 ],
 "metadata": {
  "kernelspec": {
   "display_name": "Python 3",
   "language": "python",
   "name": "python3"
  },
  "language_info": {
   "codemirror_mode": {
    "name": "ipython",
    "version": 3
   },
   "file_extension": ".py",
   "mimetype": "text/x-python",
   "name": "python",
   "nbconvert_exporter": "python",
   "pygments_lexer": "ipython3",
   "version": "3.7.3"
  },
  "toc": {
   "base_numbering": 1,
   "nav_menu": {},
   "number_sections": true,
   "sideBar": true,
   "skip_h1_title": false,
   "title_cell": "Table of Contents",
   "title_sidebar": "Contents",
   "toc_cell": false,
   "toc_position": {},
   "toc_section_display": true,
   "toc_window_display": false
  }
 },
 "nbformat": 4,
 "nbformat_minor": 2
}
